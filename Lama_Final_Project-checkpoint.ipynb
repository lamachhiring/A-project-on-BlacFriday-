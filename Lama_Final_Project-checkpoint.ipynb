{
 "cells": [
  {
   "cell_type": "markdown",
   "metadata": {},
   "source": [
    "# Import Libraries"
   ]
  },
  {
   "cell_type": "code",
   "execution_count": 1,
   "metadata": {},
   "outputs": [],
   "source": [
    "import numpy as  np # numeric calculation \n",
    "import pandas as pd  # to work with dataframe\n",
    "import seaborn as sns # the pupose of this library is clear visualization\n",
    "from matplotlib import pyplot as plt # this will help visualizing and displaying the plots\n",
    "plt.style.use('ggplot')\n",
    "%matplotlib inline\n",
    "from matplotlib.colors import ListedColormap #color maping pupose\n",
    "import warnings                   # even the code executes correctly sometimes there may be \n",
    "warnings.filterwarnings(\"ignore\") # some warnigns this libray will help ignoring Warnings\n",
    "\n",
    "from math import sqrt # it deals with the root problesm\n",
    "\n",
    "from sklearn.model_selection import train_test_split # to splits the dataset into two parts \n",
    "                                               # for train and test \n",
    "\n",
    "    # \"higher-level\" hyperparameter performing purpose, \n",
    "   # usually decided after trained and tested with different models\n",
    "from sklearn.model_selection import GridSearchCV\n",
    "from sklearn.model_selection import RandomizedSearchCV\n",
    "\n",
    "from sklearn.linear_model import Ridge  # Linear Regression + L2 regularization\n",
    "from sklearn.linear_model import Lasso  # Linear Regression + L1 regularization\n",
    "from sklearn.svm import SVR # Support Vector Regressor\n",
    "from sklearn.ensemble import RandomForestRegressor\n",
    "from sklearn.neighbors import KNeighborsRegressor \n",
    "from sklearn.model_selection import train_test_split\n",
    "from sklearn.tree import DecisionTreeRegressor\n",
    "from sklearn import datasets, linear_model\n",
    "from sklearn.model_selection import cross_val_score\n",
    "\n",
    "# Evaluation Metrics\n",
    "# (unsorbed quantity of estimation) \n",
    "from sklearn.metrics import mean_squared_error as mse \n",
    "from sklearn.metrics import r2_score as rs\n",
    "from sklearn.metrics import mean_absolute_error as mae\n",
    "\n",
    "#import xgboost\n",
    "import os\n",
    "mingw_path = 'C:\\\\Program Files\\\\mingw-w64\\\\x86_64-7.2.0-posix-seh-rt_v5-rev0\\\\mingw64\\\\bin'\n",
    "os.environ['PATH'] = mingw_path + ';' + os.environ['PATH']\n",
    "from xgboost import XGBRegressor\n",
    "from xgboost import plot_importance  # to plot feature importance\n",
    "\n",
    "# to save the final model on disk\n",
    "from sklearn.externals import joblib\n",
    "\n",
    "np.set_printoptions(precision=2, suppress=True)\n",
    "# using numpy, it prints floating point numbers upto 2 decimals\n"
   ]
  },
  {
   "cell_type": "markdown",
   "metadata": {},
   "source": [
    "# Pull up the required CSV file"
   ]
  },
  {
   "cell_type": "code",
   "execution_count": 2,
   "metadata": {},
   "outputs": [],
   "source": [
    "lama=pd.read_csv('BlackFriday.csv')"
   ]
  },
  {
   "cell_type": "code",
   "execution_count": 3,
   "metadata": {},
   "outputs": [
    {
     "data": {
      "text/plain": [
       "(537577, 12)"
      ]
     },
     "execution_count": 3,
     "metadata": {},
     "output_type": "execute_result"
    }
   ],
   "source": [
    "lama.shape # check the size of rows and columns"
   ]
  },
  {
   "cell_type": "code",
   "execution_count": 4,
   "metadata": {},
   "outputs": [
    {
     "data": {
      "text/plain": [
       "Index(['User_ID', 'Product_ID', 'Gender', 'Age', 'Occupation', 'City_Category',\n",
       "       'Stay_In_Current_City_Years', 'Marital_Status', 'Product_Category_1',\n",
       "       'Product_Category_2', 'Product_Category_3', 'Purchase'],\n",
       "      dtype='object')"
      ]
     },
     "execution_count": 4,
     "metadata": {},
     "output_type": "execute_result"
    }
   ],
   "source": [
    "lama.columns # check the columns"
   ]
  },
  {
   "cell_type": "code",
   "execution_count": 5,
   "metadata": {},
   "outputs": [
    {
     "name": "stdout",
     "output_type": "stream",
     "text": [
      "<class 'pandas.core.frame.DataFrame'>\n",
      "RangeIndex: 537577 entries, 0 to 537576\n",
      "Data columns (total 12 columns):\n",
      "User_ID                       537577 non-null int64\n",
      "Product_ID                    537577 non-null object\n",
      "Gender                        537577 non-null object\n",
      "Age                           537577 non-null object\n",
      "Occupation                    537577 non-null int64\n",
      "City_Category                 537577 non-null object\n",
      "Stay_In_Current_City_Years    537577 non-null object\n",
      "Marital_Status                537577 non-null int64\n",
      "Product_Category_1            537577 non-null int64\n",
      "Product_Category_2            370591 non-null float64\n",
      "Product_Category_3            164278 non-null float64\n",
      "Purchase                      537577 non-null int64\n",
      "dtypes: float64(2), int64(5), object(5)\n",
      "memory usage: 49.2+ MB\n"
     ]
    }
   ],
   "source": [
    "lama.info()  # detail info of the dataset"
   ]
  },
  {
   "cell_type": "markdown",
   "metadata": {},
   "source": [
    "# Show top five rows to learn the nature of observations"
   ]
  },
  {
   "cell_type": "code",
   "execution_count": 6,
   "metadata": {},
   "outputs": [
    {
     "data": {
      "text/html": [
       "<div>\n",
       "<style scoped>\n",
       "    .dataframe tbody tr th:only-of-type {\n",
       "        vertical-align: middle;\n",
       "    }\n",
       "\n",
       "    .dataframe tbody tr th {\n",
       "        vertical-align: top;\n",
       "    }\n",
       "\n",
       "    .dataframe thead th {\n",
       "        text-align: right;\n",
       "    }\n",
       "</style>\n",
       "<table border=\"1\" class=\"dataframe\">\n",
       "  <thead>\n",
       "    <tr style=\"text-align: right;\">\n",
       "      <th></th>\n",
       "      <th>User_ID</th>\n",
       "      <th>Product_ID</th>\n",
       "      <th>Gender</th>\n",
       "      <th>Age</th>\n",
       "      <th>Occupation</th>\n",
       "      <th>City_Category</th>\n",
       "      <th>Stay_In_Current_City_Years</th>\n",
       "      <th>Marital_Status</th>\n",
       "      <th>Product_Category_1</th>\n",
       "      <th>Product_Category_2</th>\n",
       "      <th>Product_Category_3</th>\n",
       "      <th>Purchase</th>\n",
       "    </tr>\n",
       "  </thead>\n",
       "  <tbody>\n",
       "    <tr>\n",
       "      <th>0</th>\n",
       "      <td>1000001</td>\n",
       "      <td>P00069042</td>\n",
       "      <td>F</td>\n",
       "      <td>0-17</td>\n",
       "      <td>10</td>\n",
       "      <td>A</td>\n",
       "      <td>2</td>\n",
       "      <td>0</td>\n",
       "      <td>3</td>\n",
       "      <td>NaN</td>\n",
       "      <td>NaN</td>\n",
       "      <td>8370</td>\n",
       "    </tr>\n",
       "    <tr>\n",
       "      <th>1</th>\n",
       "      <td>1000001</td>\n",
       "      <td>P00248942</td>\n",
       "      <td>F</td>\n",
       "      <td>0-17</td>\n",
       "      <td>10</td>\n",
       "      <td>A</td>\n",
       "      <td>2</td>\n",
       "      <td>0</td>\n",
       "      <td>1</td>\n",
       "      <td>6.0</td>\n",
       "      <td>14.0</td>\n",
       "      <td>15200</td>\n",
       "    </tr>\n",
       "    <tr>\n",
       "      <th>2</th>\n",
       "      <td>1000001</td>\n",
       "      <td>P00087842</td>\n",
       "      <td>F</td>\n",
       "      <td>0-17</td>\n",
       "      <td>10</td>\n",
       "      <td>A</td>\n",
       "      <td>2</td>\n",
       "      <td>0</td>\n",
       "      <td>12</td>\n",
       "      <td>NaN</td>\n",
       "      <td>NaN</td>\n",
       "      <td>1422</td>\n",
       "    </tr>\n",
       "    <tr>\n",
       "      <th>3</th>\n",
       "      <td>1000001</td>\n",
       "      <td>P00085442</td>\n",
       "      <td>F</td>\n",
       "      <td>0-17</td>\n",
       "      <td>10</td>\n",
       "      <td>A</td>\n",
       "      <td>2</td>\n",
       "      <td>0</td>\n",
       "      <td>12</td>\n",
       "      <td>14.0</td>\n",
       "      <td>NaN</td>\n",
       "      <td>1057</td>\n",
       "    </tr>\n",
       "    <tr>\n",
       "      <th>4</th>\n",
       "      <td>1000002</td>\n",
       "      <td>P00285442</td>\n",
       "      <td>M</td>\n",
       "      <td>55+</td>\n",
       "      <td>16</td>\n",
       "      <td>C</td>\n",
       "      <td>4+</td>\n",
       "      <td>0</td>\n",
       "      <td>8</td>\n",
       "      <td>NaN</td>\n",
       "      <td>NaN</td>\n",
       "      <td>7969</td>\n",
       "    </tr>\n",
       "  </tbody>\n",
       "</table>\n",
       "</div>"
      ],
      "text/plain": [
       "   User_ID Product_ID Gender   Age  Occupation City_Category  \\\n",
       "0  1000001  P00069042      F  0-17          10             A   \n",
       "1  1000001  P00248942      F  0-17          10             A   \n",
       "2  1000001  P00087842      F  0-17          10             A   \n",
       "3  1000001  P00085442      F  0-17          10             A   \n",
       "4  1000002  P00285442      M   55+          16             C   \n",
       "\n",
       "  Stay_In_Current_City_Years  Marital_Status  Product_Category_1  \\\n",
       "0                          2               0                   3   \n",
       "1                          2               0                   1   \n",
       "2                          2               0                  12   \n",
       "3                          2               0                  12   \n",
       "4                         4+               0                   8   \n",
       "\n",
       "   Product_Category_2  Product_Category_3  Purchase  \n",
       "0                 NaN                 NaN      8370  \n",
       "1                 6.0                14.0     15200  \n",
       "2                 NaN                 NaN      1422  \n",
       "3                14.0                 NaN      1057  \n",
       "4                 NaN                 NaN      7969  "
      ]
     },
     "execution_count": 6,
     "metadata": {},
     "output_type": "execute_result"
    }
   ],
   "source": [
    "lama.head()"
   ]
  },
  {
   "cell_type": "markdown",
   "metadata": {},
   "source": [
    "# At a glance we can see, some columns are categorical and some are numerics\n",
    "- Show only the categorical features"
   ]
  },
  {
   "cell_type": "code",
   "execution_count": 7,
   "metadata": {},
   "outputs": [
    {
     "data": {
      "text/plain": [
       "Product_ID                    object\n",
       "Gender                        object\n",
       "Age                           object\n",
       "City_Category                 object\n",
       "Stay_In_Current_City_Years    object\n",
       "dtype: object"
      ]
     },
     "execution_count": 7,
     "metadata": {},
     "output_type": "execute_result"
    }
   ],
   "source": [
    "lama.dtypes[lama.dtypes=='object'] # retrieve the features which are equal to 'object'"
   ]
  },
  {
   "cell_type": "markdown",
   "metadata": {},
   "source": [
    "# Distribution of numeric feature"
   ]
  },
  {
   "cell_type": "code",
   "execution_count": 8,
   "metadata": {},
   "outputs": [
    {
     "data": {
      "image/png": "[encoded data removed]",
      "text/plain": [
       "<Figure size 1152x1152 with 9 Axes>"
      ]
     },
     "metadata": {
      "needs_background": "light"
     },
     "output_type": "display_data"
    }
   ],
   "source": [
    "lama.hist(figsize=(16,16), xrot=-45) # Display the 'X' labels rotated by -45 degress \n",
    "plt.show() \n",
    "# if this (show function) is not  used then the reuslt will come with multi-dimentional array outcome"
   ]
  },
  {
   "cell_type": "markdown",
   "metadata": {},
   "source": [
    "# Scanning over a couple of observations:\n",
    "- When we look at the purchase:\n",
    "- The histogram shows that about 6000 purchases have made for about 130000 dollars\n",
    "- In the User_ID, it shows that the user_IDs between 1001000 and 1002000 and -user_ids between 100400 and 100500 have spent about 60000 dollars\n",
    "- The occupation 0 to 2 have spent about 11500dollars, occupation 5 has spent more than 8000\n",
    "- In marital_status one sex has spent 33000 and another has spent 22000\n",
    "- If we look at product_category_1, category 5.0 to 6.0 are sold about 17000\n",
    "# General statiscal interpretation of numeric features¶"
   ]
  },
  {
   "cell_type": "code",
   "execution_count": 9,
   "metadata": {},
   "outputs": [
    {
     "data": {
      "text/html": [
       "<div>\n",
       "<style scoped>\n",
       "    .dataframe tbody tr th:only-of-type {\n",
       "        vertical-align: middle;\n",
       "    }\n",
       "\n",
       "    .dataframe tbody tr th {\n",
       "        vertical-align: top;\n",
       "    }\n",
       "\n",
       "    .dataframe thead th {\n",
       "        text-align: right;\n",
       "    }\n",
       "</style>\n",
       "<table border=\"1\" class=\"dataframe\">\n",
       "  <thead>\n",
       "    <tr style=\"text-align: right;\">\n",
       "      <th></th>\n",
       "      <th>User_ID</th>\n",
       "      <th>Occupation</th>\n",
       "      <th>Marital_Status</th>\n",
       "      <th>Product_Category_1</th>\n",
       "      <th>Product_Category_2</th>\n",
       "      <th>Product_Category_3</th>\n",
       "      <th>Purchase</th>\n",
       "    </tr>\n",
       "  </thead>\n",
       "  <tbody>\n",
       "    <tr>\n",
       "      <th>count</th>\n",
       "      <td>5.375770e+05</td>\n",
       "      <td>537577.00000</td>\n",
       "      <td>537577.000000</td>\n",
       "      <td>537577.000000</td>\n",
       "      <td>370591.000000</td>\n",
       "      <td>164278.000000</td>\n",
       "      <td>537577.000000</td>\n",
       "    </tr>\n",
       "    <tr>\n",
       "      <th>mean</th>\n",
       "      <td>1.002992e+06</td>\n",
       "      <td>8.08271</td>\n",
       "      <td>0.408797</td>\n",
       "      <td>5.295546</td>\n",
       "      <td>9.842144</td>\n",
       "      <td>12.669840</td>\n",
       "      <td>9333.859853</td>\n",
       "    </tr>\n",
       "    <tr>\n",
       "      <th>std</th>\n",
       "      <td>1.714393e+03</td>\n",
       "      <td>6.52412</td>\n",
       "      <td>0.491612</td>\n",
       "      <td>3.750701</td>\n",
       "      <td>5.087259</td>\n",
       "      <td>4.124341</td>\n",
       "      <td>4981.022133</td>\n",
       "    </tr>\n",
       "    <tr>\n",
       "      <th>min</th>\n",
       "      <td>1.000001e+06</td>\n",
       "      <td>0.00000</td>\n",
       "      <td>0.000000</td>\n",
       "      <td>1.000000</td>\n",
       "      <td>2.000000</td>\n",
       "      <td>3.000000</td>\n",
       "      <td>185.000000</td>\n",
       "    </tr>\n",
       "    <tr>\n",
       "      <th>25%</th>\n",
       "      <td>1.001495e+06</td>\n",
       "      <td>2.00000</td>\n",
       "      <td>0.000000</td>\n",
       "      <td>1.000000</td>\n",
       "      <td>5.000000</td>\n",
       "      <td>9.000000</td>\n",
       "      <td>5866.000000</td>\n",
       "    </tr>\n",
       "    <tr>\n",
       "      <th>50%</th>\n",
       "      <td>1.003031e+06</td>\n",
       "      <td>7.00000</td>\n",
       "      <td>0.000000</td>\n",
       "      <td>5.000000</td>\n",
       "      <td>9.000000</td>\n",
       "      <td>14.000000</td>\n",
       "      <td>8062.000000</td>\n",
       "    </tr>\n",
       "    <tr>\n",
       "      <th>75%</th>\n",
       "      <td>1.004417e+06</td>\n",
       "      <td>14.00000</td>\n",
       "      <td>1.000000</td>\n",
       "      <td>8.000000</td>\n",
       "      <td>15.000000</td>\n",
       "      <td>16.000000</td>\n",
       "      <td>12073.000000</td>\n",
       "    </tr>\n",
       "    <tr>\n",
       "      <th>max</th>\n",
       "      <td>1.006040e+06</td>\n",
       "      <td>20.00000</td>\n",
       "      <td>1.000000</td>\n",
       "      <td>18.000000</td>\n",
       "      <td>18.000000</td>\n",
       "      <td>18.000000</td>\n",
       "      <td>23961.000000</td>\n",
       "    </tr>\n",
       "  </tbody>\n",
       "</table>\n",
       "</div>"
      ],
      "text/plain": [
       "            User_ID    Occupation  Marital_Status  Product_Category_1  \\\n",
       "count  5.375770e+05  537577.00000   537577.000000       537577.000000   \n",
       "mean   1.002992e+06       8.08271        0.408797            5.295546   \n",
       "std    1.714393e+03       6.52412        0.491612            3.750701   \n",
       "min    1.000001e+06       0.00000        0.000000            1.000000   \n",
       "25%    1.001495e+06       2.00000        0.000000            1.000000   \n",
       "50%    1.003031e+06       7.00000        0.000000            5.000000   \n",
       "75%    1.004417e+06      14.00000        1.000000            8.000000   \n",
       "max    1.006040e+06      20.00000        1.000000           18.000000   \n",
       "\n",
       "       Product_Category_2  Product_Category_3       Purchase  \n",
       "count       370591.000000       164278.000000  537577.000000  \n",
       "mean             9.842144           12.669840    9333.859853  \n",
       "std              5.087259            4.124341    4981.022133  \n",
       "min              2.000000            3.000000     185.000000  \n",
       "25%              5.000000            9.000000    5866.000000  \n",
       "50%              9.000000           14.000000    8062.000000  \n",
       "75%             15.000000           16.000000   12073.000000  \n",
       "max             18.000000           18.000000   23961.000000  "
      ]
     },
     "execution_count": 9,
     "metadata": {},
     "output_type": "execute_result"
    }
   ],
   "source": [
    "lama.describe()"
   ]
  },
  {
   "cell_type": "markdown",
   "metadata": {},
   "source": [
    "# Distribution of categorical Features\n",
    "- summarized statistical display"
   ]
  },
  {
   "cell_type": "code",
   "execution_count": 10,
   "metadata": {},
   "outputs": [
    {
     "data": {
      "text/html": [
       "<div>\n",
       "<style scoped>\n",
       "    .dataframe tbody tr th:only-of-type {\n",
       "        vertical-align: middle;\n",
       "    }\n",
       "\n",
       "    .dataframe tbody tr th {\n",
       "        vertical-align: top;\n",
       "    }\n",
       "\n",
       "    .dataframe thead th {\n",
       "        text-align: right;\n",
       "    }\n",
       "</style>\n",
       "<table border=\"1\" class=\"dataframe\">\n",
       "  <thead>\n",
       "    <tr style=\"text-align: right;\">\n",
       "      <th></th>\n",
       "      <th>Product_ID</th>\n",
       "      <th>Gender</th>\n",
       "      <th>Age</th>\n",
       "      <th>City_Category</th>\n",
       "      <th>Stay_In_Current_City_Years</th>\n",
       "    </tr>\n",
       "  </thead>\n",
       "  <tbody>\n",
       "    <tr>\n",
       "      <th>count</th>\n",
       "      <td>537577</td>\n",
       "      <td>537577</td>\n",
       "      <td>537577</td>\n",
       "      <td>537577</td>\n",
       "      <td>537577</td>\n",
       "    </tr>\n",
       "    <tr>\n",
       "      <th>unique</th>\n",
       "      <td>3623</td>\n",
       "      <td>2</td>\n",
       "      <td>7</td>\n",
       "      <td>3</td>\n",
       "      <td>5</td>\n",
       "    </tr>\n",
       "    <tr>\n",
       "      <th>top</th>\n",
       "      <td>P00265242</td>\n",
       "      <td>M</td>\n",
       "      <td>26-35</td>\n",
       "      <td>B</td>\n",
       "      <td>1</td>\n",
       "    </tr>\n",
       "    <tr>\n",
       "      <th>freq</th>\n",
       "      <td>1858</td>\n",
       "      <td>405380</td>\n",
       "      <td>214690</td>\n",
       "      <td>226493</td>\n",
       "      <td>189192</td>\n",
       "    </tr>\n",
       "  </tbody>\n",
       "</table>\n",
       "</div>"
      ],
      "text/plain": [
       "       Product_ID  Gender     Age City_Category Stay_In_Current_City_Years\n",
       "count      537577  537577  537577        537577                     537577\n",
       "unique       3623       2       7             3                          5\n",
       "top     P00265242       M   26-35             B                          1\n",
       "freq         1858  405380  214690        226493                     189192"
      ]
     },
     "execution_count": 10,
     "metadata": {},
     "output_type": "execute_result"
    }
   ],
   "source": [
    "lama.describe(include=['object'])"
   ]
  },
  {
   "cell_type": "markdown",
   "metadata": {},
   "source": [
    "# Observation:\n",
    "- It shows there are no missing values for categorical datas\n",
    "- There are 3623 unique values for 'Product_Id'\n",
    "- In 'Gender' category has most frequent elemnts which is 405380\n",
    "- Most frequent element for the 'Age' is in range of 26 to 35, which is 214690\n",
    "- Most frequent element for the 'City_Category' is B which has come 226493\n",
    "- Here product_id, Age and Stay_In_Current_City_Years are taken as category too because they consist some kind of characters\n",
    "\n",
    "# visualizing the categorical features with bar plot\n",
    "- Bar plot for the 'Gender' and 'City_Category'"
   ]
  },
  {
   "cell_type": "code",
   "execution_count": 11,
   "metadata": {},
   "outputs": [
    {
     "data": {
      "text/plain": [
       "<matplotlib.axes._subplots.AxesSubplot at 0x16a850fcd68>"
      ]
     },
     "execution_count": 11,
     "metadata": {},
     "output_type": "execute_result"
    },
    {
     "data": {
      "image/png": "[encoded data removed]",
      "text/plain": [
       "<Figure size 576x576 with 1 Axes>"
      ]
     },
     "metadata": {
      "needs_background": "light"
     },
     "output_type": "display_data"
    }
   ],
   "source": [
    "plt.figure(figsize=(8,8))\n",
    "sns.countplot(y='Gender', data=lama)  # Gender"
   ]
  },
  {
   "cell_type": "code",
   "execution_count": 12,
   "metadata": {},
   "outputs": [
    {
     "data": {
      "text/plain": [
       "<matplotlib.axes._subplots.AxesSubplot at 0x16a850fccf8>"
      ]
     },
     "execution_count": 12,
     "metadata": {},
     "output_type": "execute_result"
    },
    {
     "data": {
      "image/png": "[encoded data removed]",
      "text/plain": [
       "<Figure size 576x576 with 1 Axes>"
      ]
     },
     "metadata": {
      "needs_background": "light"
     },
     "output_type": "display_data"
    }
   ],
   "source": [
    "plt.figure(figsize=(8,8))\n",
    "sns.countplot(y='City_Category', data=lama) # City_Category"
   ]
  },
  {
   "cell_type": "markdown",
   "metadata": {},
   "source": [
    "# Observation for above two bar plots: Frequencies\n",
    "- In Gender, since Male has higher lements than Female the orange bar is longer than blue bar\n",
    "- The scale of the blue bar is 405380 we know be previous description\n",
    "- In City Category, category B has the longest bar with scale of 226493"
   ]
  },
  {
   "cell_type": "markdown",
   "metadata": {},
   "source": [
    "# Segmentations:\n",
    "- Segmentation allows to amke observation of the relationship between the categorical and numerical data\n",
    "\n",
    "# Segmenting the target variable by key categorical data"
   ]
  },
  {
   "cell_type": "code",
   "execution_count": 13,
   "metadata": {},
   "outputs": [
    {
     "data": {
      "text/plain": [
       "<matplotlib.axes._subplots.AxesSubplot at 0x16a8549e860>"
      ]
     },
     "execution_count": 13,
     "metadata": {},
     "output_type": "execute_result"
    },
    {
     "data": {
      "image/png": "[encoded data removed]",
      "text/plain": [
       "<Figure size 432x288 with 1 Axes>"
      ]
     },
     "metadata": {
      "needs_background": "light"
     },
     "output_type": "display_data"
    }
   ],
   "source": [
    "sns.boxplot(y='City_Category', x='Purchase', data=lama)"
   ]
  },
  {
   "cell_type": "markdown",
   "metadata": {},
   "source": [
    "- It shows that City_Category 'C' (Orange)has more Purchase transactions"
   ]
  },
  {
   "cell_type": "code",
   "execution_count": 14,
   "metadata": {},
   "outputs": [
    {
     "data": {
      "text/plain": [
       "23961"
      ]
     },
     "execution_count": 14,
     "metadata": {},
     "output_type": "execute_result"
    }
   ],
   "source": [
    "lama['Purchase'].max() # just checking the highest value for Purchase"
   ]
  },
  {
   "cell_type": "markdown",
   "metadata": {},
   "source": [
    "# Here the City_Category are grouped and compared with other features"
   ]
  },
  {
   "cell_type": "code",
   "execution_count": 15,
   "metadata": {},
   "outputs": [
    {
     "data": {
      "text/html": [
       "<div>\n",
       "<style scoped>\n",
       "    .dataframe tbody tr th:only-of-type {\n",
       "        vertical-align: middle;\n",
       "    }\n",
       "\n",
       "    .dataframe tbody tr th {\n",
       "        vertical-align: top;\n",
       "    }\n",
       "\n",
       "    .dataframe thead th {\n",
       "        text-align: right;\n",
       "    }\n",
       "</style>\n",
       "<table border=\"1\" class=\"dataframe\">\n",
       "  <thead>\n",
       "    <tr style=\"text-align: right;\">\n",
       "      <th></th>\n",
       "      <th>User_ID</th>\n",
       "      <th>Occupation</th>\n",
       "      <th>Marital_Status</th>\n",
       "      <th>Product_Category_1</th>\n",
       "      <th>Product_Category_2</th>\n",
       "      <th>Product_Category_3</th>\n",
       "      <th>Purchase</th>\n",
       "    </tr>\n",
       "    <tr>\n",
       "      <th>City_Category</th>\n",
       "      <th></th>\n",
       "      <th></th>\n",
       "      <th></th>\n",
       "      <th></th>\n",
       "      <th></th>\n",
       "      <th></th>\n",
       "      <th></th>\n",
       "    </tr>\n",
       "  </thead>\n",
       "  <tbody>\n",
       "    <tr>\n",
       "      <th>A</th>\n",
       "      <td>1.002901e+06</td>\n",
       "      <td>7.857306</td>\n",
       "      <td>0.381988</td>\n",
       "      <td>5.437036</td>\n",
       "      <td>9.945026</td>\n",
       "      <td>12.682530</td>\n",
       "      <td>8958.011014</td>\n",
       "    </tr>\n",
       "    <tr>\n",
       "      <th>B</th>\n",
       "      <td>1.003033e+06</td>\n",
       "      <td>7.973244</td>\n",
       "      <td>0.407430</td>\n",
       "      <td>5.300420</td>\n",
       "      <td>9.825763</td>\n",
       "      <td>12.674811</td>\n",
       "      <td>9198.657848</td>\n",
       "    </tr>\n",
       "    <tr>\n",
       "      <th>C</th>\n",
       "      <td>1.003015e+06</td>\n",
       "      <td>8.427538</td>\n",
       "      <td>0.433955</td>\n",
       "      <td>5.165964</td>\n",
       "      <td>9.779649</td>\n",
       "      <td>12.654322</td>\n",
       "      <td>9844.441855</td>\n",
       "    </tr>\n",
       "  </tbody>\n",
       "</table>\n",
       "</div>"
      ],
      "text/plain": [
       "                    User_ID  Occupation  Marital_Status  Product_Category_1  \\\n",
       "City_Category                                                                 \n",
       "A              1.002901e+06    7.857306        0.381988            5.437036   \n",
       "B              1.003033e+06    7.973244        0.407430            5.300420   \n",
       "C              1.003015e+06    8.427538        0.433955            5.165964   \n",
       "\n",
       "               Product_Category_2  Product_Category_3     Purchase  \n",
       "City_Category                                                       \n",
       "A                        9.945026           12.682530  8958.011014  \n",
       "B                        9.825763           12.674811  9198.657848  \n",
       "C                        9.779649           12.654322  9844.441855  "
      ]
     },
     "execution_count": 15,
     "metadata": {},
     "output_type": "execute_result"
    }
   ],
   "source": [
    "lama.groupby('City_Category').mean()"
   ]
  },
  {
   "cell_type": "markdown",
   "metadata": {},
   "source": [
    "# Observation:\n",
    "- City_Category A has lowest purchase fugure however Product_category_3 is highest figure.\n",
    "- Marital_Status is shown lowest for number for this City_Category.\n",
    "- City_Category C has highest purchase figure, but Product_Category_1 is lowest in this category\n",
    "\n",
    "\n",
    "# Making a visualization by plotting in boxplot City_Category vs Occupation"
   ]
  },
  {
   "cell_type": "code",
   "execution_count": 16,
   "metadata": {},
   "outputs": [
    {
     "data": {
      "text/plain": [
       "<matplotlib.axes._subplots.AxesSubplot at 0x16a84e8c470>"
      ]
     },
     "execution_count": 16,
     "metadata": {},
     "output_type": "execute_result"
    },
    {
     "data": {
      "image/png": "[encoded data removed]",
      "text/plain": [
       "<Figure size 432x288 with 1 Axes>"
      ]
     },
     "metadata": {
      "needs_background": "light"
     },
     "output_type": "display_data"
    }
   ],
   "source": [
    "sns.boxplot(y='City_Category', x='Occupation', data=lama)"
   ]
  },
  {
   "cell_type": "markdown",
   "metadata": {},
   "source": [
    "# Another visualization with City_Category vs Marital_Status"
   ]
  },
  {
   "cell_type": "code",
   "execution_count": 17,
   "metadata": {},
   "outputs": [
    {
     "data": {
      "text/plain": [
       "<matplotlib.axes._subplots.AxesSubplot at 0x16a851b0ba8>"
      ]
     },
     "execution_count": 17,
     "metadata": {},
     "output_type": "execute_result"
    },
    {
     "data": {
      "image/png": "[encoded data removed]",
      "text/plain": [
       "<Figure size 432x288 with 1 Axes>"
      ]
     },
     "metadata": {
      "needs_background": "light"
     },
     "output_type": "display_data"
    }
   ],
   "source": [
    "sns.boxplot(y='City_Category', x='Product_Category_1', data=lama)"
   ]
  },
  {
   "cell_type": "markdown",
   "metadata": {},
   "source": [
    "# Obsevation:\n",
    "- In the first box plotting,\n",
    "- all three city categories have much variance on the base of Occupation\n",
    "- Occupation is from about 2.4 to 12.8 for both Category A and B\n",
    "- C is shown from about 2.7 to 12.8\n",
    "- In the second box lotting,\n",
    "- on the base of Product_Category_1, City_Category A has no variance\n",
    "- City_Category B and C have some varience\n",
    "- City_Category C and B have covered from 1.5 to 7.7\n",
    "\n",
    "\n",
    "# Classified on the base of City_Category and display the means and standard deviations within each class"
   ]
  },
  {
   "cell_type": "code",
   "execution_count": 18,
   "metadata": {},
   "outputs": [
    {
     "data": {
      "text/html": [
       "<div>\n",
       "<style scoped>\n",
       "    .dataframe tbody tr th:only-of-type {\n",
       "        vertical-align: middle;\n",
       "    }\n",
       "\n",
       "    .dataframe tbody tr th {\n",
       "        vertical-align: top;\n",
       "    }\n",
       "\n",
       "    .dataframe thead tr th {\n",
       "        text-align: left;\n",
       "    }\n",
       "\n",
       "    .dataframe thead tr:last-of-type th {\n",
       "        text-align: right;\n",
       "    }\n",
       "</style>\n",
       "<table border=\"1\" class=\"dataframe\">\n",
       "  <thead>\n",
       "    <tr>\n",
       "      <th></th>\n",
       "      <th colspan=\"2\" halign=\"left\">User_ID</th>\n",
       "      <th colspan=\"2\" halign=\"left\">Occupation</th>\n",
       "      <th colspan=\"2\" halign=\"left\">Marital_Status</th>\n",
       "      <th colspan=\"2\" halign=\"left\">Product_Category_1</th>\n",
       "      <th colspan=\"2\" halign=\"left\">Product_Category_2</th>\n",
       "      <th colspan=\"2\" halign=\"left\">Product_Category_3</th>\n",
       "      <th colspan=\"2\" halign=\"left\">Purchase</th>\n",
       "    </tr>\n",
       "    <tr>\n",
       "      <th></th>\n",
       "      <th>mean</th>\n",
       "      <th>std</th>\n",
       "      <th>mean</th>\n",
       "      <th>std</th>\n",
       "      <th>mean</th>\n",
       "      <th>std</th>\n",
       "      <th>mean</th>\n",
       "      <th>std</th>\n",
       "      <th>mean</th>\n",
       "      <th>std</th>\n",
       "      <th>mean</th>\n",
       "      <th>std</th>\n",
       "      <th>mean</th>\n",
       "      <th>std</th>\n",
       "    </tr>\n",
       "    <tr>\n",
       "      <th>City_Category</th>\n",
       "      <th></th>\n",
       "      <th></th>\n",
       "      <th></th>\n",
       "      <th></th>\n",
       "      <th></th>\n",
       "      <th></th>\n",
       "      <th></th>\n",
       "      <th></th>\n",
       "      <th></th>\n",
       "      <th></th>\n",
       "      <th></th>\n",
       "      <th></th>\n",
       "      <th></th>\n",
       "      <th></th>\n",
       "    </tr>\n",
       "  </thead>\n",
       "  <tbody>\n",
       "    <tr>\n",
       "      <th>A</th>\n",
       "      <td>1.002901e+06</td>\n",
       "      <td>1776.571039</td>\n",
       "      <td>7.857306</td>\n",
       "      <td>6.715094</td>\n",
       "      <td>0.381988</td>\n",
       "      <td>0.485875</td>\n",
       "      <td>5.437036</td>\n",
       "      <td>3.727868</td>\n",
       "      <td>9.945026</td>\n",
       "      <td>5.022350</td>\n",
       "      <td>12.682530</td>\n",
       "      <td>4.095707</td>\n",
       "      <td>8958.011014</td>\n",
       "      <td>4866.896600</td>\n",
       "    </tr>\n",
       "    <tr>\n",
       "      <th>B</th>\n",
       "      <td>1.003033e+06</td>\n",
       "      <td>1671.630272</td>\n",
       "      <td>7.973244</td>\n",
       "      <td>6.495510</td>\n",
       "      <td>0.407430</td>\n",
       "      <td>0.491357</td>\n",
       "      <td>5.300420</td>\n",
       "      <td>3.744983</td>\n",
       "      <td>9.825763</td>\n",
       "      <td>5.077927</td>\n",
       "      <td>12.674811</td>\n",
       "      <td>4.111198</td>\n",
       "      <td>9198.657848</td>\n",
       "      <td>4927.062965</td>\n",
       "    </tr>\n",
       "    <tr>\n",
       "      <th>C</th>\n",
       "      <td>1.003015e+06</td>\n",
       "      <td>1713.958970</td>\n",
       "      <td>8.427538</td>\n",
       "      <td>6.379270</td>\n",
       "      <td>0.433955</td>\n",
       "      <td>0.495620</td>\n",
       "      <td>5.165964</td>\n",
       "      <td>3.773647</td>\n",
       "      <td>9.779649</td>\n",
       "      <td>5.150469</td>\n",
       "      <td>12.654322</td>\n",
       "      <td>4.161494</td>\n",
       "      <td>9844.441855</td>\n",
       "      <td>5109.472100</td>\n",
       "    </tr>\n",
       "  </tbody>\n",
       "</table>\n",
       "</div>"
      ],
      "text/plain": [
       "                    User_ID              Occupation           Marital_Status  \\\n",
       "                       mean          std       mean       std           mean   \n",
       "City_Category                                                                  \n",
       "A              1.002901e+06  1776.571039   7.857306  6.715094       0.381988   \n",
       "B              1.003033e+06  1671.630272   7.973244  6.495510       0.407430   \n",
       "C              1.003015e+06  1713.958970   8.427538  6.379270       0.433955   \n",
       "\n",
       "                        Product_Category_1           Product_Category_2  \\\n",
       "                    std               mean       std               mean   \n",
       "City_Category                                                             \n",
       "A              0.485875           5.437036  3.727868           9.945026   \n",
       "B              0.491357           5.300420  3.744983           9.825763   \n",
       "C              0.495620           5.165964  3.773647           9.779649   \n",
       "\n",
       "                        Product_Category_3               Purchase               \n",
       "                    std               mean       std         mean          std  \n",
       "City_Category                                                                   \n",
       "A              5.022350          12.682530  4.095707  8958.011014  4866.896600  \n",
       "B              5.077927          12.674811  4.111198  9198.657848  4927.062965  \n",
       "C              5.150469          12.654322  4.161494  9844.441855  5109.472100  "
      ]
     },
     "execution_count": 18,
     "metadata": {},
     "output_type": "execute_result"
    }
   ],
   "source": [
    "lama.groupby('City_Category').agg([np.mean, np.std]) "
   ]
  },
  {
   "cell_type": "markdown",
   "metadata": {},
   "source": [
    "# Now, we can check the strength of relationship between features in each other"
   ]
  },
  {
   "cell_type": "code",
   "execution_count": null,
   "metadata": {},
   "outputs": [
    {
     "data": {
      "text/html": [
       "<div>\n",
       "<style scoped>\n",
       "    .dataframe tbody tr th:only-of-type {\n",
       "        vertical-align: middle;\n",
       "    }\n",
       "\n",
       "    .dataframe tbody tr th {\n",
       "        vertical-align: top;\n",
       "    }\n",
       "\n",
       "    .dataframe thead th {\n",
       "        text-align: right;\n",
       "    }\n",
       "</style>\n",
       "<table border=\"1\" class=\"dataframe\">\n",
       "  <thead>\n",
       "    <tr style=\"text-align: right;\">\n",
       "      <th></th>\n",
       "      <th>User_ID</th>\n",
       "      <th>Occupation</th>\n",
       "      <th>Marital_Status</th>\n",
       "      <th>Product_Category_1</th>\n",
       "      <th>Product_Category_2</th>\n",
       "      <th>Product_Category_3</th>\n",
       "      <th>Purchase</th>\n",
       "    </tr>\n",
       "  </thead>\n",
       "  <tbody>\n",
       "    <tr>\n",
       "      <th>User_ID</th>\n",
       "      <td>1.000000</td>\n",
       "      <td>-0.023024</td>\n",
       "      <td>0.018732</td>\n",
       "      <td>0.003687</td>\n",
       "      <td>0.001471</td>\n",
       "      <td>0.004045</td>\n",
       "      <td>0.005389</td>\n",
       "    </tr>\n",
       "    <tr>\n",
       "      <th>Occupation</th>\n",
       "      <td>-0.023024</td>\n",
       "      <td>1.000000</td>\n",
       "      <td>0.024691</td>\n",
       "      <td>-0.008114</td>\n",
       "      <td>-0.000031</td>\n",
       "      <td>0.013452</td>\n",
       "      <td>0.021104</td>\n",
       "    </tr>\n",
       "    <tr>\n",
       "      <th>Marital_Status</th>\n",
       "      <td>0.018732</td>\n",
       "      <td>0.024691</td>\n",
       "      <td>1.000000</td>\n",
       "      <td>0.020546</td>\n",
       "      <td>0.015116</td>\n",
       "      <td>0.019452</td>\n",
       "      <td>0.000129</td>\n",
       "    </tr>\n",
       "    <tr>\n",
       "      <th>Product_Category_1</th>\n",
       "      <td>0.003687</td>\n",
       "      <td>-0.008114</td>\n",
       "      <td>0.020546</td>\n",
       "      <td>1.000000</td>\n",
       "      <td>0.540423</td>\n",
       "      <td>0.229490</td>\n",
       "      <td>-0.314125</td>\n",
       "    </tr>\n",
       "    <tr>\n",
       "      <th>Product_Category_2</th>\n",
       "      <td>0.001471</td>\n",
       "      <td>-0.000031</td>\n",
       "      <td>0.015116</td>\n",
       "      <td>0.540423</td>\n",
       "      <td>1.000000</td>\n",
       "      <td>0.543544</td>\n",
       "      <td>-0.209973</td>\n",
       "    </tr>\n",
       "    <tr>\n",
       "      <th>Product_Category_3</th>\n",
       "      <td>0.004045</td>\n",
       "      <td>0.013452</td>\n",
       "      <td>0.019452</td>\n",
       "      <td>0.229490</td>\n",
       "      <td>0.543544</td>\n",
       "      <td>1.000000</td>\n",
       "      <td>-0.022257</td>\n",
       "    </tr>\n",
       "    <tr>\n",
       "      <th>Purchase</th>\n",
       "      <td>0.005389</td>\n",
       "      <td>0.021104</td>\n",
       "      <td>0.000129</td>\n",
       "      <td>-0.314125</td>\n",
       "      <td>-0.209973</td>\n",
       "      <td>-0.022257</td>\n",
       "      <td>1.000000</td>\n",
       "    </tr>\n",
       "  </tbody>\n",
       "</table>\n",
       "</div>"
      ],
      "text/plain": [
       "                     User_ID  Occupation  Marital_Status  Product_Category_1  \\\n",
       "User_ID             1.000000   -0.023024        0.018732            0.003687   \n",
       "Occupation         -0.023024    1.000000        0.024691           -0.008114   \n",
       "Marital_Status      0.018732    0.024691        1.000000            0.020546   \n",
       "Product_Category_1  0.003687   -0.008114        0.020546            1.000000   \n",
       "Product_Category_2  0.001471   -0.000031        0.015116            0.540423   \n",
       "Product_Category_3  0.004045    0.013452        0.019452            0.229490   \n",
       "Purchase            0.005389    0.021104        0.000129           -0.314125   \n",
       "\n",
       "                    Product_Category_2  Product_Category_3  Purchase  \n",
       "User_ID                       0.001471            0.004045  0.005389  \n",
       "Occupation                   -0.000031            0.013452  0.021104  \n",
       "Marital_Status                0.015116            0.019452  0.000129  \n",
       "Product_Category_1            0.540423            0.229490 -0.314125  \n",
       "Product_Category_2            1.000000            0.543544 -0.209973  \n",
       "Product_Category_3            0.543544            1.000000 -0.022257  \n",
       "Purchase                     -0.209973           -0.022257  1.000000  "
      ]
     },
     "execution_count": 19,
     "metadata": {},
     "output_type": "execute_result"
    }
   ],
   "source": [
    "lama.corr()"
   ]
  },
  {
   "cell_type": "markdown",
   "metadata": {},
   "source": [
    "# visualizing the corealation between the features in heatmap"
   ]
  },
  {
   "cell_type": "code",
   "execution_count": null,
   "metadata": {},
   "outputs": [
    {
     "data": {
      "text/plain": [
       "<matplotlib.axes._subplots.AxesSubplot at 0x16a8508f6d8>"
      ]
     },
     "execution_count": 20,
     "metadata": {},
     "output_type": "execute_result"
    },
    {
     "data": {
      "image/png": "[encoded data removed]",
      "text/plain": [
       "<Figure size 1440x1440 with 2 Axes>"
      ]
     },
     "metadata": {
      "needs_background": "light"
     },
     "output_type": "display_data"
    }
   ],
   "source": [
    "plt.figure(figsize=(20,20))\n",
    "sns.heatmap(lama.corr())"
   ]
  },
  {
   "cell_type": "markdown",
   "metadata": {},
   "source": [
    "# Observation:\n",
    "- Here, Purchase and User_ID shows strongest relationship\n",
    "\n",
    "\n",
    "# Another heatmap with percentage"
   ]
  },
  {
   "cell_type": "code",
   "execution_count": null,
   "metadata": {},
   "outputs": [
    {
     "data": {
      "image/png": "[encoded data removed]",
      "text/plain": [
       "<Figure size 720x720 with 2 Axes>"
      ]
     },
     "metadata": {
      "needs_background": "light"
     },
     "output_type": "display_data"
    }
   ],
   "source": [
    "mask=np.zeros_like(lama.corr())\n",
    "mask[np.triu_indices_from(mask)] = True\n",
    "plt.figure(figsize=(10,10))\n",
    "with sns.axes_style(\"white\"):\n",
    "    ax = sns.heatmap(lama.corr()*100, mask=mask, fmt='.0f', \n",
    "                     annot=True, lw=1, cmap=ListedColormap(['green', 'yellow', 'red','blue']))"
   ]
  },
  {
   "cell_type": "markdown",
   "metadata": {},
   "source": [
    "# Data cleaning\n",
    "\n",
    "- Drop if there is any repeated datas"
   ]
  },
  {
   "cell_type": "code",
   "execution_count": null,
   "metadata": {},
   "outputs": [
    {
     "name": "stdout",
     "output_type": "stream",
     "text": [
      "(537577, 12)\n"
     ]
    }
   ],
   "source": [
    "lama = lama.drop_duplicates() # shows if there is any repeated rows\n",
    "print( lama.shape )"
   ]
  },
  {
   "cell_type": "markdown",
   "metadata": {},
   "source": [
    "- Since before executing the drop function and after it shows same result, there is no duplicates"
   ]
  },
  {
   "cell_type": "code",
   "execution_count": null,
   "metadata": {},
   "outputs": [
    {
     "data": {
      "text/plain": [
       "3623"
      ]
     },
     "execution_count": 23,
     "metadata": {},
     "output_type": "execute_result"
    }
   ],
   "source": [
    "lama.Product_ID.nunique() # check how many unique values in product ID"
   ]
  },
  {
   "cell_type": "markdown",
   "metadata": {},
   "source": [
    "# Fix other errors and not applicable numbers if there is any"
   ]
  },
  {
   "cell_type": "code",
   "execution_count": null,
   "metadata": {},
   "outputs": [
    {
     "name": "stdout",
     "output_type": "stream",
     "text": [
      "<class 'pandas.core.frame.DataFrame'>\n",
      "Int64Index: 537577 entries, 0 to 537576\n",
      "Data columns (total 12 columns):\n",
      "User_ID                       537577 non-null int64\n",
      "Product_ID                    537577 non-null object\n",
      "Gender                        537577 non-null object\n",
      "Age                           537577 non-null object\n",
      "Occupation                    537577 non-null int64\n",
      "City_Category                 537577 non-null object\n",
      "Stay_In_Current_City_Years    537577 non-null object\n",
      "Marital_Status                537577 non-null int64\n",
      "Product_Category_1            537577 non-null int64\n",
      "Product_Category_2            370591 non-null float64\n",
      "Product_Category_3            164278 non-null float64\n",
      "Purchase                      537577 non-null int64\n",
      "dtypes: float64(2), int64(5), object(5)\n",
      "memory usage: 53.3+ MB\n"
     ]
    }
   ],
   "source": [
    "lama.info() # it will show the row numbers, data type, and null info if any in the dataset"
   ]
  },
  {
   "cell_type": "markdown",
   "metadata": {},
   "source": [
    "# If we go back to displayed 5 rows of dataset and make a observation\n",
    "- we can see there are some NaN values\n",
    "\n",
    "\n",
    "- First take care of NaN values in those two columns"
   ]
  },
  {
   "cell_type": "code",
   "execution_count": null,
   "metadata": {},
   "outputs": [
    {
     "data": {
      "text/plain": [
       "0     NaN\n",
       "1     6.0\n",
       "2     NaN\n",
       "3    14.0\n",
       "4     NaN\n",
       "Name: Product_Category_2, dtype: float64"
      ]
     },
     "execution_count": 25,
     "metadata": {},
     "output_type": "execute_result"
    }
   ],
   "source": [
    "lama['Product_Category_2'].head()  # Cheking for the NaN"
   ]
  },
  {
   "cell_type": "code",
   "execution_count": null,
   "metadata": {},
   "outputs": [
    {
     "data": {
      "text/plain": [
       "0     NaN\n",
       "1    14.0\n",
       "2     NaN\n",
       "3     NaN\n",
       "4     NaN\n",
       "Name: Product_Category_3, dtype: float64"
      ]
     },
     "execution_count": 26,
     "metadata": {},
     "output_type": "execute_result"
    }
   ],
   "source": [
    "lama['Product_Category_3'].head() # Cheking for the NaN"
   ]
  },
  {
   "cell_type": "code",
   "execution_count": null,
   "metadata": {},
   "outputs": [],
   "source": [
    "median2 = lama['Product_Category_2'].median() # median value of the Product_Category_2"
   ]
  },
  {
   "cell_type": "code",
   "execution_count": null,
   "metadata": {},
   "outputs": [],
   "source": [
    "lama['Product_Category_2'].fillna(median2, inplace=True) # All NaNs are replaced by the mean"
   ]
  },
  {
   "cell_type": "code",
   "execution_count": null,
   "metadata": {},
   "outputs": [
    {
     "data": {
      "text/plain": [
       "0     9.0\n",
       "1     6.0\n",
       "2     9.0\n",
       "3    14.0\n",
       "4     9.0\n",
       "Name: Product_Category_2, dtype: float64"
      ]
     },
     "execution_count": 29,
     "metadata": {},
     "output_type": "execute_result"
    }
   ],
   "source": [
    "lama['Product_Category_2'].head() # after repalcing the NaN with median value"
   ]
  },
  {
   "cell_type": "markdown",
   "metadata": {},
   "source": [
    "- Before we had Nan values in Product_Category_2, after distributing NaN values with mean\n",
    "- Now, we don't have NaN values"
   ]
  },
  {
   "cell_type": "code",
   "execution_count": null,
   "metadata": {},
   "outputs": [],
   "source": [
    "median3 = lama['Product_Category_3'].median() # median value of the Product_Category_3"
   ]
  },
  {
   "cell_type": "code",
   "execution_count": null,
   "metadata": {},
   "outputs": [],
   "source": [
    "lama['Product_Category_3'].fillna(median3, inplace=True) # All NaNs are replaced by the median"
   ]
  },
  {
   "cell_type": "code",
   "execution_count": null,
   "metadata": {},
   "outputs": [
    {
     "data": {
      "text/plain": [
       "0    14.0\n",
       "1    14.0\n",
       "2    14.0\n",
       "3    14.0\n",
       "4    14.0\n",
       "Name: Product_Category_3, dtype: float64"
      ]
     },
     "execution_count": 32,
     "metadata": {},
     "output_type": "execute_result"
    }
   ],
   "source": [
    "lama['Product_Category_3'].head() # after replacing the NaN "
   ]
  },
  {
   "cell_type": "markdown",
   "metadata": {},
   "source": [
    "- Before we had Nan values in Product_Category_3,\n",
    "- after distributing NaN values with mean we don't have NaN values"
   ]
  },
  {
   "cell_type": "code",
   "execution_count": null,
   "metadata": {},
   "outputs": [
    {
     "data": {
      "image/png": "[encoded data removed]",
      "text/plain": [
       "<Figure size 432x288 with 1 Axes>"
      ]
     },
     "metadata": {
      "needs_background": "light"
     },
     "output_type": "display_data"
    }
   ],
   "source": [
    "# Since there is no NaN values in Product_Category 2 and 3 \n",
    "# Now, it should give good sence of plotting the City_Category\n",
    "sns.countplot(x='Product_Category_2', data=lama)                  # check with category 2\n",
    "plt.xticks(\n",
    "    rotation= 90, \n",
    "    horizontalalignment='right',\n",
    "    fontweight='light',\n",
    "    fontsize='x-large'  \n",
    ")\n",
    "plt.tight_layout()"
   ]
  },
  {
   "cell_type": "code",
   "execution_count": null,
   "metadata": {},
   "outputs": [
    {
     "data": {
      "image/png": "[encoded data removed]",
      "text/plain": [
       "<Figure size 432x288 with 1 Axes>"
      ]
     },
     "metadata": {
      "needs_background": "light"
     },
     "output_type": "display_data"
    }
   ],
   "source": [
    "# Since there is no NaN values in Product_Category 2 and 3 \n",
    "# Now, it should give good sence of plotting the Product_Category\n",
    "sns.countplot(x='Product_Category_3',data=lama) # check with cateory 3\n",
    "plt.xticks(\n",
    "    rotation= -45, \n",
    "    horizontalalignment='right',\n",
    "    fontweight='light',\n",
    "    fontsize='x-large'  \n",
    ")\n",
    "plt.tight_layout()"
   ]
  },
  {
   "cell_type": "markdown",
   "metadata": {},
   "source": [
    "- Observing above two seaborn countplots it can be confirmed that missing numeric values are well distributed replacing by the median values"
   ]
  },
  {
   "cell_type": "code",
   "execution_count": null,
   "metadata": {},
   "outputs": [
    {
     "data": {
      "text/plain": [
       "<matplotlib.axes._subplots.AxesSubplot at 0x16a853f6da0>"
      ]
     },
     "execution_count": 35,
     "metadata": {},
     "output_type": "execute_result"
    },
    {
     "data": {
      "image/png": "[encoded data removed]",
      "text/plain": [
       "<Figure size 432x288 with 1 Axes>"
      ]
     },
     "metadata": {
      "needs_background": "light"
     },
     "output_type": "display_data"
    }
   ],
   "source": [
    "# Class distributions for 'Age'\n",
    "# The transaction made by certain age group \n",
    "sns.countplot(y='Age', data=lama)"
   ]
  },
  {
   "cell_type": "code",
   "execution_count": null,
   "metadata": {},
   "outputs": [
    {
     "data": {
      "text/plain": [
       "0     2\n",
       "1     2\n",
       "2     2\n",
       "3     2\n",
       "4    4+\n",
       "Name: Stay_In_Current_City_Years, dtype: object"
      ]
     },
     "execution_count": 36,
     "metadata": {},
     "output_type": "execute_result"
    }
   ],
   "source": [
    "lama['Stay_In_Current_City_Years'].head() # check how does this column stands"
   ]
  },
  {
   "cell_type": "code",
   "execution_count": null,
   "metadata": {},
   "outputs": [
    {
     "data": {
      "text/plain": [
       "<matplotlib.axes._subplots.AxesSubplot at 0x16a86139588>"
      ]
     },
     "execution_count": 37,
     "metadata": {},
     "output_type": "execute_result"
    },
    {
     "data": {
      "image/png": "[encoded data removed]",
      "text/plain": [
       "<Figure size 432x288 with 1 Axes>"
      ]
     },
     "metadata": {
      "needs_background": "light"
     },
     "output_type": "display_data"
    }
   ],
   "source": [
    "# Class distributions for 'Stay_In_Current_city_years'  \n",
    "# the people who have spent certain numbers of years in particular city\n",
    "sns.countplot(y='Stay_In_Current_City_Years', data=lama)"
   ]
  },
  {
   "cell_type": "markdown",
   "metadata": {},
   "source": [
    "# Getting rid of Outliers\n",
    "- The box plots will allow to determine the outlier\n",
    "- outlier is variation or error (but not a mistake)"
   ]
  },
  {
   "cell_type": "code",
   "execution_count": null,
   "metadata": {},
   "outputs": [
    {
     "data": {
      "text/plain": [
       "<matplotlib.axes._subplots.AxesSubplot at 0x16a861c9048>"
      ]
     },
     "execution_count": 38,
     "metadata": {},
     "output_type": "execute_result"
    },
    {
     "data": {
      "image/png": "[encoded data removed]",
      "text/plain": [
       "<Figure size 432x288 with 1 Axes>"
      ]
     },
     "metadata": {
      "needs_background": "light"
     },
     "output_type": "display_data"
    }
   ],
   "source": [
    "sns.boxplot(lama.Purchase) # check outliers with Purchase"
   ]
  },
  {
   "cell_type": "markdown",
   "metadata": {},
   "source": [
    "# What does it say?\n",
    "- The vertical bars laying in two epoints are the purchase range from lwest to highest\n",
    "- The box in the middle is the interquartile range (25th percentile to 75th percentile)\n",
    "- The 25 percentile is the middle number between smallest number and the median\n",
    "- The 75 percentile is the mid value bet median and the highest number\n",
    "- The line inside the box represents the median value"
   ]
  },
  {
   "cell_type": "code",
   "execution_count": null,
   "metadata": {},
   "outputs": [
    {
     "data": {
      "text/plain": [
       "<matplotlib.axes._subplots.AxesSubplot at 0x16a853d9ac8>"
      ]
     },
     "execution_count": 39,
     "metadata": {},
     "output_type": "execute_result"
    },
    {
     "data": {
      "image/png": "[encoded data removed]",
      "text/plain": [
       "<Figure size 432x288 with 1 Axes>"
      ]
     },
     "metadata": {
      "needs_background": "light"
     },
     "output_type": "display_data"
    }
   ],
   "source": [
    "# checking outliers for Product Categories\n",
    "sns.boxplot(lama.Product_Category_2)"
   ]
  },
  {
   "cell_type": "code",
   "execution_count": null,
   "metadata": {},
   "outputs": [
    {
     "data": {
      "text/plain": [
       "<matplotlib.axes._subplots.AxesSubplot at 0x16a8534c2e8>"
      ]
     },
     "execution_count": 40,
     "metadata": {},
     "output_type": "execute_result"
    },
    {
     "data": {
      "image/png": "[encoded data removed]",
      "text/plain": [
       "<Figure size 432x288 with 1 Axes>"
      ]
     },
     "metadata": {
      "needs_background": "light"
     },
     "output_type": "display_data"
    }
   ],
   "source": [
    "sns.boxplot(lama.Occupation )  # checking Product category for occupation "
   ]
  },
  {
   "cell_type": "markdown",
   "metadata": {},
   "source": [
    "# Outliers\n",
    "- There are some ouliers in puchase\n",
    "- Howevere it does not show any ouliers for the occupation and Product category 2"
   ]
  },
  {
   "cell_type": "code",
   "execution_count": null,
   "metadata": {},
   "outputs": [
    {
     "data": {
      "text/plain": [
       "87440     23961\n",
       "93016     23961\n",
       "370891    23961\n",
       "503697    23960\n",
       "321782    23960\n",
       "349658    23960\n",
       "292083    23960\n",
       "437804    23959\n",
       "298378    23959\n",
       "7542      23958\n",
       "Name: Purchase, dtype: int64"
      ]
     },
     "execution_count": 41,
     "metadata": {},
     "output_type": "execute_result"
    }
   ],
   "source": [
    "lama.Purchase.sort_values(ascending=False).head(10) "
   ]
  },
  {
   "cell_type": "markdown",
   "metadata": {},
   "source": [
    "# Fixing outliers\n",
    "- It shows the highest purchase made is 23961\n",
    "- Let's try to limit it somewhere around figure 21000"
   ]
  },
  {
   "cell_type": "code",
   "execution_count": null,
   "metadata": {},
   "outputs": [
    {
     "data": {
      "text/plain": [
       "(525062, 12)"
      ]
     },
     "execution_count": 42,
     "metadata": {},
     "output_type": "execute_result"
    }
   ],
   "source": [
    "## Remove observations with Purchase greater than 20000\n",
    "lama = lama[lama.Purchase <= 20000]\n",
    "lama.shape"
   ]
  },
  {
   "cell_type": "code",
   "execution_count": null,
   "metadata": {},
   "outputs": [
    {
     "data": {
      "text/plain": [
       "<matplotlib.axes._subplots.AxesSubplot at 0x16a853750b8>"
      ]
     },
     "execution_count": 43,
     "metadata": {},
     "output_type": "execute_result"
    },
    {
     "data": {
      "image/png": "[encoded data removed]",
      "text/plain": [
       "<Figure size 432x288 with 1 Axes>"
      ]
     },
     "metadata": {
      "needs_background": "light"
     },
     "output_type": "display_data"
    }
   ],
   "source": [
    "## Plotting the boxplot of lot size after the change\n",
    "sns.boxplot(lama.Purchase)"
   ]
  },
  {
   "cell_type": "markdown",
   "metadata": {},
   "source": [
    "- Now, the boxplot for the Purchase looks far better than earlier one"
   ]
  },
  {
   "cell_type": "markdown",
   "metadata": {},
   "source": [
    "# Ignoring the missing values is not acceptable in a dataset\n",
    "- It can be handled some how for the real-world hands on with Scikit-Learn algorithms"
   ]
  },
  {
   "cell_type": "code",
   "execution_count": null,
   "metadata": {},
   "outputs": [
    {
     "data": {
      "text/plain": [
       "Product_ID                    0\n",
       "Gender                        0\n",
       "Age                           0\n",
       "City_Category                 0\n",
       "Stay_In_Current_City_Years    0\n",
       "dtype: int64"
      ]
     },
     "execution_count": 44,
     "metadata": {},
     "output_type": "execute_result"
    }
   ],
   "source": [
    "# Display number of missing values by categorical feature\n",
    "lama.select_dtypes(include=['object']).isnull().sum()   # include parameter for the object"
   ]
  },
  {
   "cell_type": "markdown",
   "metadata": {},
   "source": [
    "- It is proved that there is no missing values in Categorical data"
   ]
  },
  {
   "cell_type": "code",
   "execution_count": null,
   "metadata": {},
   "outputs": [
    {
     "data": {
      "text/plain": [
       "User_ID               0\n",
       "Occupation            0\n",
       "Marital_Status        0\n",
       "Product_Category_1    0\n",
       "Product_Category_2    0\n",
       "Product_Category_3    0\n",
       "Purchase              0\n",
       "dtype: int64"
      ]
     },
     "execution_count": 45,
     "metadata": {},
     "output_type": "execute_result"
    }
   ],
   "source": [
    "# Display number of missing values by numeric feature\n",
    "lama.select_dtypes(exclude=['object']).isnull().sum()   #exclude parameter for the numeric"
   ]
  },
  {
   "cell_type": "markdown",
   "metadata": {},
   "source": [
    "- no missing values for numeric values as well"
   ]
  },
  {
   "cell_type": "markdown",
   "metadata": {},
   "source": [
    "# It is good practice to save the cleaned dataframe before walk through the next module"
   ]
  },
  {
   "cell_type": "code",
   "execution_count": null,
   "metadata": {},
   "outputs": [],
   "source": [
    "# Save cleaned dataframe to a new file\n",
    "lama.to_csv(r'C:\\Users\\Chhiring\\Desktop\\lamaCfile.csv', index=False)"
   ]
  },
  {
   "cell_type": "markdown",
   "metadata": {},
   "source": [
    "# Feature Engineering\n",
    "- It will be better to remove the columns that do not help in the prediction.\n",
    "\n",
    "\n",
    "- -Even it is replaced with the mean value for NaN in the Product_Category_3,\n",
    "it has around 70 percent of valeus are from mean -which might give wrong prediction wo dropping this column as well"
   ]
  },
  {
   "cell_type": "code",
   "execution_count": null,
   "metadata": {},
   "outputs": [],
   "source": [
    "# Drop the Product_Category_3\n",
    "lama = lama.drop(['Product_Category_3'], axis=1)  "
   ]
  },
  {
   "cell_type": "code",
   "execution_count": null,
   "metadata": {},
   "outputs": [
    {
     "name": "stdout",
     "output_type": "stream",
     "text": [
      "<class 'pandas.core.frame.DataFrame'>\n",
      "Int64Index: 525062 entries, 0 to 537576\n",
      "Data columns (total 9 columns):\n",
      "Gender                        525062 non-null object\n",
      "Age                           525062 non-null object\n",
      "Occupation                    525062 non-null int64\n",
      "City_Category                 525062 non-null object\n",
      "Stay_In_Current_City_Years    525062 non-null object\n",
      "Marital_Status                525062 non-null int64\n",
      "Product_Category_1            525062 non-null int64\n",
      "Product_Category_2            525062 non-null float64\n",
      "Purchase                      525062 non-null int64\n",
      "dtypes: float64(1), int64(4), object(4)\n",
      "memory usage: 40.1+ MB\n"
     ]
    }
   ],
   "source": [
    "# dropping the column User_ID and the Product_ID\n",
    "lama = lama.drop(['User_ID','Product_ID'], axis=1)  \n",
    "lama.info()  "
   ]
  },
  {
   "cell_type": "markdown",
   "metadata": {},
   "source": [
    "- Since we have dropped couple of columns and cleaned the data, how it would look like?"
   ]
  },
  {
   "cell_type": "code",
   "execution_count": null,
   "metadata": {},
   "outputs": [
    {
     "data": {
      "image/png": "[encoded data removed]",
      "text/plain": [
       "<Figure size 432x288 with 1 Axes>"
      ]
     },
     "metadata": {
      "needs_background": "light"
     },
     "output_type": "display_data"
    }
   ],
   "source": [
    "sns.countplot(y='City_Category', data=lama)\n",
    "plt.show()"
   ]
  },
  {
   "cell_type": "markdown",
   "metadata": {},
   "source": [
    "# Encode dummy variables (One Hot Encoding)\n",
    "- The following script creates one-hot encoded vectors for Gender, Age, City, and Stay_In_Current_City_Years column\n",
    "- get_dummies function will convert categorical values to one-hot encoded vectors"
   ]
  },
  {
   "cell_type": "code",
   "execution_count": null,
   "metadata": {},
   "outputs": [
    {
     "data": {
      "text/html": [
       "<div>\n",
       "<style scoped>\n",
       "    .dataframe tbody tr th:only-of-type {\n",
       "        vertical-align: middle;\n",
       "    }\n",
       "\n",
       "    .dataframe tbody tr th {\n",
       "        vertical-align: top;\n",
       "    }\n",
       "\n",
       "    .dataframe thead th {\n",
       "        text-align: right;\n",
       "    }\n",
       "</style>\n",
       "<table border=\"1\" class=\"dataframe\">\n",
       "  <thead>\n",
       "    <tr style=\"text-align: right;\">\n",
       "      <th></th>\n",
       "      <th>Gender</th>\n",
       "      <th>Age</th>\n",
       "      <th>Occupation</th>\n",
       "      <th>City_Category</th>\n",
       "      <th>Stay_In_Current_City_Years</th>\n",
       "      <th>Marital_Status</th>\n",
       "      <th>Product_Category_1</th>\n",
       "      <th>Product_Category_2</th>\n",
       "      <th>Purchase</th>\n",
       "      <th>F</th>\n",
       "      <th>...</th>\n",
       "      <th>51-55</th>\n",
       "      <th>55+</th>\n",
       "      <th>A</th>\n",
       "      <th>B</th>\n",
       "      <th>C</th>\n",
       "      <th>0</th>\n",
       "      <th>1</th>\n",
       "      <th>2</th>\n",
       "      <th>3</th>\n",
       "      <th>4+</th>\n",
       "    </tr>\n",
       "  </thead>\n",
       "  <tbody>\n",
       "    <tr>\n",
       "      <th>0</th>\n",
       "      <td>F</td>\n",
       "      <td>0-17</td>\n",
       "      <td>10</td>\n",
       "      <td>A</td>\n",
       "      <td>2</td>\n",
       "      <td>0</td>\n",
       "      <td>3</td>\n",
       "      <td>9.0</td>\n",
       "      <td>8370</td>\n",
       "      <td>1</td>\n",
       "      <td>...</td>\n",
       "      <td>0</td>\n",
       "      <td>0</td>\n",
       "      <td>1</td>\n",
       "      <td>0</td>\n",
       "      <td>0</td>\n",
       "      <td>0</td>\n",
       "      <td>0</td>\n",
       "      <td>1</td>\n",
       "      <td>0</td>\n",
       "      <td>0</td>\n",
       "    </tr>\n",
       "    <tr>\n",
       "      <th>1</th>\n",
       "      <td>F</td>\n",
       "      <td>0-17</td>\n",
       "      <td>10</td>\n",
       "      <td>A</td>\n",
       "      <td>2</td>\n",
       "      <td>0</td>\n",
       "      <td>1</td>\n",
       "      <td>6.0</td>\n",
       "      <td>15200</td>\n",
       "      <td>1</td>\n",
       "      <td>...</td>\n",
       "      <td>0</td>\n",
       "      <td>0</td>\n",
       "      <td>1</td>\n",
       "      <td>0</td>\n",
       "      <td>0</td>\n",
       "      <td>0</td>\n",
       "      <td>0</td>\n",
       "      <td>1</td>\n",
       "      <td>0</td>\n",
       "      <td>0</td>\n",
       "    </tr>\n",
       "    <tr>\n",
       "      <th>2</th>\n",
       "      <td>F</td>\n",
       "      <td>0-17</td>\n",
       "      <td>10</td>\n",
       "      <td>A</td>\n",
       "      <td>2</td>\n",
       "      <td>0</td>\n",
       "      <td>12</td>\n",
       "      <td>9.0</td>\n",
       "      <td>1422</td>\n",
       "      <td>1</td>\n",
       "      <td>...</td>\n",
       "      <td>0</td>\n",
       "      <td>0</td>\n",
       "      <td>1</td>\n",
       "      <td>0</td>\n",
       "      <td>0</td>\n",
       "      <td>0</td>\n",
       "      <td>0</td>\n",
       "      <td>1</td>\n",
       "      <td>0</td>\n",
       "      <td>0</td>\n",
       "    </tr>\n",
       "    <tr>\n",
       "      <th>3</th>\n",
       "      <td>F</td>\n",
       "      <td>0-17</td>\n",
       "      <td>10</td>\n",
       "      <td>A</td>\n",
       "      <td>2</td>\n",
       "      <td>0</td>\n",
       "      <td>12</td>\n",
       "      <td>14.0</td>\n",
       "      <td>1057</td>\n",
       "      <td>1</td>\n",
       "      <td>...</td>\n",
       "      <td>0</td>\n",
       "      <td>0</td>\n",
       "      <td>1</td>\n",
       "      <td>0</td>\n",
       "      <td>0</td>\n",
       "      <td>0</td>\n",
       "      <td>0</td>\n",
       "      <td>1</td>\n",
       "      <td>0</td>\n",
       "      <td>0</td>\n",
       "    </tr>\n",
       "    <tr>\n",
       "      <th>4</th>\n",
       "      <td>M</td>\n",
       "      <td>55+</td>\n",
       "      <td>16</td>\n",
       "      <td>C</td>\n",
       "      <td>4+</td>\n",
       "      <td>0</td>\n",
       "      <td>8</td>\n",
       "      <td>9.0</td>\n",
       "      <td>7969</td>\n",
       "      <td>0</td>\n",
       "      <td>...</td>\n",
       "      <td>0</td>\n",
       "      <td>1</td>\n",
       "      <td>0</td>\n",
       "      <td>0</td>\n",
       "      <td>1</td>\n",
       "      <td>0</td>\n",
       "      <td>0</td>\n",
       "      <td>0</td>\n",
       "      <td>0</td>\n",
       "      <td>1</td>\n",
       "    </tr>\n",
       "  </tbody>\n",
       "</table>\n",
       "<p>5 rows × 26 columns</p>\n",
       "</div>"
      ],
      "text/plain": [
       "  Gender   Age  Occupation City_Category Stay_In_Current_City_Years  \\\n",
       "0      F  0-17          10             A                          2   \n",
       "1      F  0-17          10             A                          2   \n",
       "2      F  0-17          10             A                          2   \n",
       "3      F  0-17          10             A                          2   \n",
       "4      M   55+          16             C                         4+   \n",
       "\n",
       "   Marital_Status  Product_Category_1  Product_Category_2  Purchase  F ...  \\\n",
       "0               0                   3                 9.0      8370  1 ...   \n",
       "1               0                   1                 6.0     15200  1 ...   \n",
       "2               0                  12                 9.0      1422  1 ...   \n",
       "3               0                  12                14.0      1057  1 ...   \n",
       "4               0                   8                 9.0      7969  0 ...   \n",
       "\n",
       "   51-55  55+  A  B  C  0  1  2  3  4+  \n",
       "0      0    0  1  0  0  0  0  1  0   0  \n",
       "1      0    0  1  0  0  0  0  1  0   0  \n",
       "2      0    0  1  0  0  0  0  1  0   0  \n",
       "3      0    0  1  0  0  0  0  1  0   0  \n",
       "4      0    1  0  0  1  0  0  0  0   1  \n",
       "\n",
       "[5 rows x 26 columns]"
      ]
     },
     "execution_count": 50,
     "metadata": {},
     "output_type": "execute_result"
    }
   ],
   "source": [
    "lama_Gender = pd.get_dummies(lama['Gender'])  \n",
    "lama_Age = pd.get_dummies(lama['Age'])  \n",
    "lama_City_Category = pd.get_dummies(lama['City_Category'])  \n",
    "lama_Stay_In_Current_City_Years = pd.get_dummies(lama['Stay_In_Current_City_Years'])\n",
    "\n",
    "lama = pd.concat([lama,lama_Gender, lama_Age, lama_City_Category, lama_Stay_In_Current_City_Years], axis=1)\n",
    "\n",
    "lama.head()  "
   ]
  },
  {
   "cell_type": "markdown",
   "metadata": {},
   "source": [
    "# Before we moving to the next module\n",
    "- save this new DataFrame we that built through feature engineering\n",
    "- It can be denote analytical base table because it'll be build the models on it"
   ]
  },
  {
   "cell_type": "code",
   "execution_count": null,
   "metadata": {},
   "outputs": [],
   "source": [
    "# Remember to set the argument index=None to save only the data.\n",
    "# Save analytical base table\n",
    "lama.to_csv(r'C:\\Users\\Chhiring\\Desktop\\analytic_final.csv', index=None)"
   ]
  },
  {
   "cell_type": "markdown",
   "metadata": {},
   "source": [
    "# Machine Learning Models\n",
    "- Data Preparation"
   ]
  },
  {
   "cell_type": "code",
   "execution_count": null,
   "metadata": {},
   "outputs": [],
   "source": [
    "lama = pd.read_csv(\"analytic_final.csv\")"
   ]
  },
  {
   "cell_type": "code",
   "execution_count": null,
   "metadata": {},
   "outputs": [
    {
     "data": {
      "text/plain": [
       "(525062, 43)"
      ]
     },
     "execution_count": 53,
     "metadata": {},
     "output_type": "execute_result"
    }
   ],
   "source": [
    "lama.shape"
   ]
  },
  {
   "cell_type": "markdown",
   "metadata": {},
   "source": [
    "# Train and Test Splits\n",
    "- Separate the dataframe into separate objects for the target variable (y)\n",
    "  and the input features (X) and perform the train and test split"
   ]
  },
  {
   "cell_type": "code",
   "execution_count": null,
   "metadata": {},
   "outputs": [],
   "source": [
    "# Create separate object for input features\n",
    "X = lama[['Occupation', 'Marital_Status', 'Product_Category_2', 'F', 'M', '0-17', '18-25', '26-35', '36-45', '46-50', '51-55', '55+', 'A', 'B', 'C', '0', '1', '2', '3', '4+']] \n",
    "# Create separate object for target variable\n",
    "y = lama['Purchase']  "
   ]
  },
  {
   "cell_type": "markdown",
   "metadata": {},
   "source": [
    "- The script below splits our dataset into 60% training set and 40% test set"
   ]
  },
  {
   "cell_type": "code",
   "execution_count": null,
   "metadata": {},
   "outputs": [],
   "source": [
    "from sklearn.model_selection import train_test_split\n",
    "\n",
    "X_train, X_test, y_train, y_test = train_test_split(X, y, test_size=0.4)  # random stte parameter is not used here"
   ]
  },
  {
   "cell_type": "markdown",
   "metadata": {},
   "source": [
    "# Make sure if there is correct number of observations in each subset\n"
   ]
  },
  {
   "cell_type": "code",
   "execution_count": null,
   "metadata": {},
   "outputs": [
    {
     "name": "stdout",
     "output_type": "stream",
     "text": [
      "(315037, 20) (210025, 20) (315037,) (210025,)\n"
     ]
    }
   ],
   "source": [
    "print(X_train.shape, X_test.shape, y_train.shape, y_test.shape)"
   ]
  },
  {
   "cell_type": "markdown",
   "metadata": {},
   "source": [
    "# Data standardization\n",
    "- In Data Standardization we perform zero mean centring and unit scaling;\n",
    "- (\"Zero-meaned\" means the vector has been transformed so that its mean is 0.)\n",
    "- The standard deviation is set as 1\n",
    "- Here, we use mean and standard deviation of each feature.\n",
    "- It is very important to save the mean and standard deviation for each of the feature from the training set,\n",
    "- because we use the same mean and standard deviation in the test set."
   ]
  },
  {
   "cell_type": "code",
   "execution_count": null,
   "metadata": {},
   "outputs": [],
   "source": [
    "train_mean = X_train.mean()\n",
    "train_std = X_train.std()"
   ]
  },
  {
   "cell_type": "code",
   "execution_count": null,
   "metadata": {},
   "outputs": [],
   "source": [
    "## Standardize the train data set\n",
    "X_train = (X_train - train_mean) / train_std"
   ]
  },
  {
   "cell_type": "code",
   "execution_count": null,
   "metadata": {},
   "outputs": [
    {
     "data": {
      "text/html": [
       "<div>\n",
       "<style scoped>\n",
       "    .dataframe tbody tr th:only-of-type {\n",
       "        vertical-align: middle;\n",
       "    }\n",
       "\n",
       "    .dataframe tbody tr th {\n",
       "        vertical-align: top;\n",
       "    }\n",
       "\n",
       "    .dataframe thead th {\n",
       "        text-align: right;\n",
       "    }\n",
       "</style>\n",
       "<table border=\"1\" class=\"dataframe\">\n",
       "  <thead>\n",
       "    <tr style=\"text-align: right;\">\n",
       "      <th></th>\n",
       "      <th>Occupation</th>\n",
       "      <th>Marital_Status</th>\n",
       "      <th>Product_Category_2</th>\n",
       "      <th>F</th>\n",
       "      <th>M</th>\n",
       "      <th>0-17</th>\n",
       "      <th>18-25</th>\n",
       "      <th>26-35</th>\n",
       "      <th>36-45</th>\n",
       "      <th>46-50</th>\n",
       "      <th>51-55</th>\n",
       "      <th>55+</th>\n",
       "      <th>A</th>\n",
       "      <th>B</th>\n",
       "      <th>C</th>\n",
       "      <th>0</th>\n",
       "      <th>1</th>\n",
       "      <th>2</th>\n",
       "      <th>3</th>\n",
       "      <th>4+</th>\n",
       "    </tr>\n",
       "  </thead>\n",
       "  <tbody>\n",
       "    <tr>\n",
       "      <th>count</th>\n",
       "      <td>3.150370e+05</td>\n",
       "      <td>3.150370e+05</td>\n",
       "      <td>3.150370e+05</td>\n",
       "      <td>3.150370e+05</td>\n",
       "      <td>3.150370e+05</td>\n",
       "      <td>3.150370e+05</td>\n",
       "      <td>3.150370e+05</td>\n",
       "      <td>3.150370e+05</td>\n",
       "      <td>3.150370e+05</td>\n",
       "      <td>3.150370e+05</td>\n",
       "      <td>3.150370e+05</td>\n",
       "      <td>3.150370e+05</td>\n",
       "      <td>3.150370e+05</td>\n",
       "      <td>3.150370e+05</td>\n",
       "      <td>3.150370e+05</td>\n",
       "      <td>3.150370e+05</td>\n",
       "      <td>3.150370e+05</td>\n",
       "      <td>3.150370e+05</td>\n",
       "      <td>3.150370e+05</td>\n",
       "      <td>3.150370e+05</td>\n",
       "    </tr>\n",
       "    <tr>\n",
       "      <th>mean</th>\n",
       "      <td>-5.783265e-17</td>\n",
       "      <td>-6.723990e-16</td>\n",
       "      <td>6.890827e-15</td>\n",
       "      <td>9.342910e-16</td>\n",
       "      <td>-9.342910e-16</td>\n",
       "      <td>-3.521727e-15</td>\n",
       "      <td>3.567712e-15</td>\n",
       "      <td>-3.330780e-15</td>\n",
       "      <td>8.660270e-16</td>\n",
       "      <td>1.324212e-14</td>\n",
       "      <td>5.034197e-15</td>\n",
       "      <td>-8.039853e-15</td>\n",
       "      <td>-7.352020e-15</td>\n",
       "      <td>-1.308615e-15</td>\n",
       "      <td>-7.057338e-15</td>\n",
       "      <td>-4.841444e-15</td>\n",
       "      <td>-7.293406e-15</td>\n",
       "      <td>-2.303806e-15</td>\n",
       "      <td>-1.073161e-15</td>\n",
       "      <td>5.437538e-15</td>\n",
       "    </tr>\n",
       "    <tr>\n",
       "      <th>std</th>\n",
       "      <td>1.000000e+00</td>\n",
       "      <td>1.000000e+00</td>\n",
       "      <td>1.000000e+00</td>\n",
       "      <td>1.000000e+00</td>\n",
       "      <td>1.000000e+00</td>\n",
       "      <td>1.000000e+00</td>\n",
       "      <td>1.000000e+00</td>\n",
       "      <td>1.000000e+00</td>\n",
       "      <td>1.000000e+00</td>\n",
       "      <td>1.000000e+00</td>\n",
       "      <td>1.000000e+00</td>\n",
       "      <td>1.000000e+00</td>\n",
       "      <td>1.000000e+00</td>\n",
       "      <td>1.000000e+00</td>\n",
       "      <td>1.000000e+00</td>\n",
       "      <td>1.000000e+00</td>\n",
       "      <td>1.000000e+00</td>\n",
       "      <td>1.000000e+00</td>\n",
       "      <td>1.000000e+00</td>\n",
       "      <td>1.000000e+00</td>\n",
       "    </tr>\n",
       "    <tr>\n",
       "      <th>min</th>\n",
       "      <td>-1.238656e+00</td>\n",
       "      <td>-8.314058e-01</td>\n",
       "      <td>-1.775180e+00</td>\n",
       "      <td>-5.735802e-01</td>\n",
       "      <td>-1.743430e+00</td>\n",
       "      <td>-1.682240e-01</td>\n",
       "      <td>-4.707073e-01</td>\n",
       "      <td>-8.172741e-01</td>\n",
       "      <td>-4.998831e-01</td>\n",
       "      <td>-3.001426e-01</td>\n",
       "      <td>-2.735706e-01</td>\n",
       "      <td>-1.999584e-01</td>\n",
       "      <td>-6.074037e-01</td>\n",
       "      <td>-8.535060e-01</td>\n",
       "      <td>-6.687701e-01</td>\n",
       "      <td>-3.953669e-01</td>\n",
       "      <td>-7.375034e-01</td>\n",
       "      <td>-4.766745e-01</td>\n",
       "      <td>-4.573040e-01</td>\n",
       "      <td>-4.273297e-01</td>\n",
       "    </tr>\n",
       "    <tr>\n",
       "      <th>25%</th>\n",
       "      <td>-9.319148e-01</td>\n",
       "      <td>-8.314058e-01</td>\n",
       "      <td>-3.660249e-01</td>\n",
       "      <td>-5.735802e-01</td>\n",
       "      <td>5.735802e-01</td>\n",
       "      <td>-1.682240e-01</td>\n",
       "      <td>-4.707073e-01</td>\n",
       "      <td>-8.172741e-01</td>\n",
       "      <td>-4.998831e-01</td>\n",
       "      <td>-3.001426e-01</td>\n",
       "      <td>-2.735706e-01</td>\n",
       "      <td>-1.999584e-01</td>\n",
       "      <td>-6.074037e-01</td>\n",
       "      <td>-8.535060e-01</td>\n",
       "      <td>-6.687701e-01</td>\n",
       "      <td>-3.953669e-01</td>\n",
       "      <td>-7.375034e-01</td>\n",
       "      <td>-4.766745e-01</td>\n",
       "      <td>-4.573040e-01</td>\n",
       "      <td>-4.273297e-01</td>\n",
       "    </tr>\n",
       "    <tr>\n",
       "      <th>50%</th>\n",
       "      <td>-1.650623e-01</td>\n",
       "      <td>-8.314058e-01</td>\n",
       "      <td>-1.311657e-01</td>\n",
       "      <td>-5.735802e-01</td>\n",
       "      <td>5.735802e-01</td>\n",
       "      <td>-1.682240e-01</td>\n",
       "      <td>-4.707073e-01</td>\n",
       "      <td>-8.172741e-01</td>\n",
       "      <td>-4.998831e-01</td>\n",
       "      <td>-3.001426e-01</td>\n",
       "      <td>-2.735706e-01</td>\n",
       "      <td>-1.999584e-01</td>\n",
       "      <td>-6.074037e-01</td>\n",
       "      <td>-8.535060e-01</td>\n",
       "      <td>-6.687701e-01</td>\n",
       "      <td>-3.953669e-01</td>\n",
       "      <td>-7.375034e-01</td>\n",
       "      <td>-4.766745e-01</td>\n",
       "      <td>-4.573040e-01</td>\n",
       "      <td>-4.273297e-01</td>\n",
       "    </tr>\n",
       "    <tr>\n",
       "      <th>75%</th>\n",
       "      <td>9.085312e-01</td>\n",
       "      <td>1.202778e+00</td>\n",
       "      <td>1.043130e+00</td>\n",
       "      <td>-5.735802e-01</td>\n",
       "      <td>5.735802e-01</td>\n",
       "      <td>-1.682240e-01</td>\n",
       "      <td>-4.707073e-01</td>\n",
       "      <td>1.223576e+00</td>\n",
       "      <td>-4.998831e-01</td>\n",
       "      <td>-3.001426e-01</td>\n",
       "      <td>-2.735706e-01</td>\n",
       "      <td>-1.999584e-01</td>\n",
       "      <td>1.646346e+00</td>\n",
       "      <td>1.171634e+00</td>\n",
       "      <td>1.495277e+00</td>\n",
       "      <td>-3.953669e-01</td>\n",
       "      <td>1.355922e+00</td>\n",
       "      <td>-4.766745e-01</td>\n",
       "      <td>-4.573040e-01</td>\n",
       "      <td>-4.273297e-01</td>\n",
       "    </tr>\n",
       "    <tr>\n",
       "      <th>max</th>\n",
       "      <td>1.828754e+00</td>\n",
       "      <td>1.202778e+00</td>\n",
       "      <td>1.982566e+00</td>\n",
       "      <td>1.743430e+00</td>\n",
       "      <td>5.735802e-01</td>\n",
       "      <td>5.944437e+00</td>\n",
       "      <td>2.124456e+00</td>\n",
       "      <td>1.223576e+00</td>\n",
       "      <td>2.000461e+00</td>\n",
       "      <td>3.331739e+00</td>\n",
       "      <td>3.655352e+00</td>\n",
       "      <td>5.001024e+00</td>\n",
       "      <td>1.646346e+00</td>\n",
       "      <td>1.171634e+00</td>\n",
       "      <td>1.495277e+00</td>\n",
       "      <td>2.529288e+00</td>\n",
       "      <td>1.355922e+00</td>\n",
       "      <td>2.097861e+00</td>\n",
       "      <td>2.186722e+00</td>\n",
       "      <td>2.340106e+00</td>\n",
       "    </tr>\n",
       "  </tbody>\n",
       "</table>\n",
       "</div>"
      ],
      "text/plain": [
       "         Occupation  Marital_Status  Product_Category_2             F  \\\n",
       "count  3.150370e+05    3.150370e+05        3.150370e+05  3.150370e+05   \n",
       "mean  -5.783265e-17   -6.723990e-16        6.890827e-15  9.342910e-16   \n",
       "std    1.000000e+00    1.000000e+00        1.000000e+00  1.000000e+00   \n",
       "min   -1.238656e+00   -8.314058e-01       -1.775180e+00 -5.735802e-01   \n",
       "25%   -9.319148e-01   -8.314058e-01       -3.660249e-01 -5.735802e-01   \n",
       "50%   -1.650623e-01   -8.314058e-01       -1.311657e-01 -5.735802e-01   \n",
       "75%    9.085312e-01    1.202778e+00        1.043130e+00 -5.735802e-01   \n",
       "max    1.828754e+00    1.202778e+00        1.982566e+00  1.743430e+00   \n",
       "\n",
       "                  M          0-17         18-25         26-35         36-45  \\\n",
       "count  3.150370e+05  3.150370e+05  3.150370e+05  3.150370e+05  3.150370e+05   \n",
       "mean  -9.342910e-16 -3.521727e-15  3.567712e-15 -3.330780e-15  8.660270e-16   \n",
       "std    1.000000e+00  1.000000e+00  1.000000e+00  1.000000e+00  1.000000e+00   \n",
       "min   -1.743430e+00 -1.682240e-01 -4.707073e-01 -8.172741e-01 -4.998831e-01   \n",
       "25%    5.735802e-01 -1.682240e-01 -4.707073e-01 -8.172741e-01 -4.998831e-01   \n",
       "50%    5.735802e-01 -1.682240e-01 -4.707073e-01 -8.172741e-01 -4.998831e-01   \n",
       "75%    5.735802e-01 -1.682240e-01 -4.707073e-01  1.223576e+00 -4.998831e-01   \n",
       "max    5.735802e-01  5.944437e+00  2.124456e+00  1.223576e+00  2.000461e+00   \n",
       "\n",
       "              46-50         51-55           55+             A             B  \\\n",
       "count  3.150370e+05  3.150370e+05  3.150370e+05  3.150370e+05  3.150370e+05   \n",
       "mean   1.324212e-14  5.034197e-15 -8.039853e-15 -7.352020e-15 -1.308615e-15   \n",
       "std    1.000000e+00  1.000000e+00  1.000000e+00  1.000000e+00  1.000000e+00   \n",
       "min   -3.001426e-01 -2.735706e-01 -1.999584e-01 -6.074037e-01 -8.535060e-01   \n",
       "25%   -3.001426e-01 -2.735706e-01 -1.999584e-01 -6.074037e-01 -8.535060e-01   \n",
       "50%   -3.001426e-01 -2.735706e-01 -1.999584e-01 -6.074037e-01 -8.535060e-01   \n",
       "75%   -3.001426e-01 -2.735706e-01 -1.999584e-01  1.646346e+00  1.171634e+00   \n",
       "max    3.331739e+00  3.655352e+00  5.001024e+00  1.646346e+00  1.171634e+00   \n",
       "\n",
       "                  C             0             1             2             3  \\\n",
       "count  3.150370e+05  3.150370e+05  3.150370e+05  3.150370e+05  3.150370e+05   \n",
       "mean  -7.057338e-15 -4.841444e-15 -7.293406e-15 -2.303806e-15 -1.073161e-15   \n",
       "std    1.000000e+00  1.000000e+00  1.000000e+00  1.000000e+00  1.000000e+00   \n",
       "min   -6.687701e-01 -3.953669e-01 -7.375034e-01 -4.766745e-01 -4.573040e-01   \n",
       "25%   -6.687701e-01 -3.953669e-01 -7.375034e-01 -4.766745e-01 -4.573040e-01   \n",
       "50%   -6.687701e-01 -3.953669e-01 -7.375034e-01 -4.766745e-01 -4.573040e-01   \n",
       "75%    1.495277e+00 -3.953669e-01  1.355922e+00 -4.766745e-01 -4.573040e-01   \n",
       "max    1.495277e+00  2.529288e+00  1.355922e+00  2.097861e+00  2.186722e+00   \n",
       "\n",
       "                 4+  \n",
       "count  3.150370e+05  \n",
       "mean   5.437538e-15  \n",
       "std    1.000000e+00  \n",
       "min   -4.273297e-01  \n",
       "25%   -4.273297e-01  \n",
       "50%   -4.273297e-01  \n",
       "75%   -4.273297e-01  \n",
       "max    2.340106e+00  "
      ]
     },
     "execution_count": 59,
     "metadata": {},
     "output_type": "execute_result"
    }
   ],
   "source": [
    "## Check for mean and std dev.\n",
    "X_train.describe()"
   ]
  },
  {
   "cell_type": "code",
   "execution_count": null,
   "metadata": {},
   "outputs": [],
   "source": [
    "# Along this journey train_mean and train_std_dev are going to be used to standardize test data set\n",
    "X_test = (X_test - train_mean) / train_std"
   ]
  },
  {
   "cell_type": "code",
   "execution_count": null,
   "metadata": {},
   "outputs": [
    {
     "data": {
      "text/html": [
       "<div>\n",
       "<style scoped>\n",
       "    .dataframe tbody tr th:only-of-type {\n",
       "        vertical-align: middle;\n",
       "    }\n",
       "\n",
       "    .dataframe tbody tr th {\n",
       "        vertical-align: top;\n",
       "    }\n",
       "\n",
       "    .dataframe thead th {\n",
       "        text-align: right;\n",
       "    }\n",
       "</style>\n",
       "<table border=\"1\" class=\"dataframe\">\n",
       "  <thead>\n",
       "    <tr style=\"text-align: right;\">\n",
       "      <th></th>\n",
       "      <th>Occupation</th>\n",
       "      <th>Marital_Status</th>\n",
       "      <th>Product_Category_2</th>\n",
       "      <th>F</th>\n",
       "      <th>M</th>\n",
       "      <th>0-17</th>\n",
       "      <th>18-25</th>\n",
       "      <th>26-35</th>\n",
       "      <th>36-45</th>\n",
       "      <th>46-50</th>\n",
       "      <th>51-55</th>\n",
       "      <th>55+</th>\n",
       "      <th>A</th>\n",
       "      <th>B</th>\n",
       "      <th>C</th>\n",
       "      <th>0</th>\n",
       "      <th>1</th>\n",
       "      <th>2</th>\n",
       "      <th>3</th>\n",
       "      <th>4+</th>\n",
       "    </tr>\n",
       "  </thead>\n",
       "  <tbody>\n",
       "    <tr>\n",
       "      <th>count</th>\n",
       "      <td>210025.000000</td>\n",
       "      <td>210025.000000</td>\n",
       "      <td>210025.000000</td>\n",
       "      <td>210025.000000</td>\n",
       "      <td>210025.000000</td>\n",
       "      <td>210025.000000</td>\n",
       "      <td>210025.000000</td>\n",
       "      <td>210025.000000</td>\n",
       "      <td>210025.000000</td>\n",
       "      <td>210025.000000</td>\n",
       "      <td>210025.000000</td>\n",
       "      <td>210025.000000</td>\n",
       "      <td>210025.000000</td>\n",
       "      <td>210025.000000</td>\n",
       "      <td>210025.000000</td>\n",
       "      <td>210025.000000</td>\n",
       "      <td>210025.000000</td>\n",
       "      <td>210025.000000</td>\n",
       "      <td>210025.000000</td>\n",
       "      <td>210025.000000</td>\n",
       "    </tr>\n",
       "    <tr>\n",
       "      <th>mean</th>\n",
       "      <td>0.000739</td>\n",
       "      <td>-0.000356</td>\n",
       "      <td>-0.004925</td>\n",
       "      <td>-0.006201</td>\n",
       "      <td>0.006201</td>\n",
       "      <td>-0.001426</td>\n",
       "      <td>0.004658</td>\n",
       "      <td>-0.004850</td>\n",
       "      <td>0.000055</td>\n",
       "      <td>0.001890</td>\n",
       "      <td>-0.001048</td>\n",
       "      <td>0.002806</td>\n",
       "      <td>-0.001013</td>\n",
       "      <td>0.002313</td>\n",
       "      <td>-0.001499</td>\n",
       "      <td>0.000250</td>\n",
       "      <td>-0.002649</td>\n",
       "      <td>0.001029</td>\n",
       "      <td>0.004716</td>\n",
       "      <td>-0.002777</td>\n",
       "    </tr>\n",
       "    <tr>\n",
       "      <th>std</th>\n",
       "      <td>1.001154</td>\n",
       "      <td>0.999935</td>\n",
       "      <td>1.000789</td>\n",
       "      <td>0.996348</td>\n",
       "      <td>0.996348</td>\n",
       "      <td>0.995872</td>\n",
       "      <td>1.003834</td>\n",
       "      <td>0.999003</td>\n",
       "      <td>1.000042</td>\n",
       "      <td>1.002860</td>\n",
       "      <td>0.998227</td>\n",
       "      <td>1.006711</td>\n",
       "      <td>0.999474</td>\n",
       "      <td>1.000366</td>\n",
       "      <td>0.999380</td>\n",
       "      <td>1.000267</td>\n",
       "      <td>0.999178</td>\n",
       "      <td>1.000834</td>\n",
       "      <td>1.004059</td>\n",
       "      <td>0.997338</td>\n",
       "    </tr>\n",
       "    <tr>\n",
       "      <th>min</th>\n",
       "      <td>-1.238656</td>\n",
       "      <td>-0.831406</td>\n",
       "      <td>-1.775180</td>\n",
       "      <td>-0.573580</td>\n",
       "      <td>-1.743430</td>\n",
       "      <td>-0.168224</td>\n",
       "      <td>-0.470707</td>\n",
       "      <td>-0.817274</td>\n",
       "      <td>-0.499883</td>\n",
       "      <td>-0.300143</td>\n",
       "      <td>-0.273571</td>\n",
       "      <td>-0.199958</td>\n",
       "      <td>-0.607404</td>\n",
       "      <td>-0.853506</td>\n",
       "      <td>-0.668770</td>\n",
       "      <td>-0.395367</td>\n",
       "      <td>-0.737503</td>\n",
       "      <td>-0.476674</td>\n",
       "      <td>-0.457304</td>\n",
       "      <td>-0.427330</td>\n",
       "    </tr>\n",
       "    <tr>\n",
       "      <th>25%</th>\n",
       "      <td>-0.931915</td>\n",
       "      <td>-0.831406</td>\n",
       "      <td>-0.366025</td>\n",
       "      <td>-0.573580</td>\n",
       "      <td>0.573580</td>\n",
       "      <td>-0.168224</td>\n",
       "      <td>-0.470707</td>\n",
       "      <td>-0.817274</td>\n",
       "      <td>-0.499883</td>\n",
       "      <td>-0.300143</td>\n",
       "      <td>-0.273571</td>\n",
       "      <td>-0.199958</td>\n",
       "      <td>-0.607404</td>\n",
       "      <td>-0.853506</td>\n",
       "      <td>-0.668770</td>\n",
       "      <td>-0.395367</td>\n",
       "      <td>-0.737503</td>\n",
       "      <td>-0.476674</td>\n",
       "      <td>-0.457304</td>\n",
       "      <td>-0.427330</td>\n",
       "    </tr>\n",
       "    <tr>\n",
       "      <th>50%</th>\n",
       "      <td>-0.165062</td>\n",
       "      <td>-0.831406</td>\n",
       "      <td>-0.131166</td>\n",
       "      <td>-0.573580</td>\n",
       "      <td>0.573580</td>\n",
       "      <td>-0.168224</td>\n",
       "      <td>-0.470707</td>\n",
       "      <td>-0.817274</td>\n",
       "      <td>-0.499883</td>\n",
       "      <td>-0.300143</td>\n",
       "      <td>-0.273571</td>\n",
       "      <td>-0.199958</td>\n",
       "      <td>-0.607404</td>\n",
       "      <td>-0.853506</td>\n",
       "      <td>-0.668770</td>\n",
       "      <td>-0.395367</td>\n",
       "      <td>-0.737503</td>\n",
       "      <td>-0.476674</td>\n",
       "      <td>-0.457304</td>\n",
       "      <td>-0.427330</td>\n",
       "    </tr>\n",
       "    <tr>\n",
       "      <th>75%</th>\n",
       "      <td>0.908531</td>\n",
       "      <td>1.202778</td>\n",
       "      <td>1.043130</td>\n",
       "      <td>-0.573580</td>\n",
       "      <td>0.573580</td>\n",
       "      <td>-0.168224</td>\n",
       "      <td>-0.470707</td>\n",
       "      <td>1.223576</td>\n",
       "      <td>-0.499883</td>\n",
       "      <td>-0.300143</td>\n",
       "      <td>-0.273571</td>\n",
       "      <td>-0.199958</td>\n",
       "      <td>1.646346</td>\n",
       "      <td>1.171634</td>\n",
       "      <td>1.495277</td>\n",
       "      <td>-0.395367</td>\n",
       "      <td>1.355922</td>\n",
       "      <td>-0.476674</td>\n",
       "      <td>-0.457304</td>\n",
       "      <td>-0.427330</td>\n",
       "    </tr>\n",
       "    <tr>\n",
       "      <th>max</th>\n",
       "      <td>1.828754</td>\n",
       "      <td>1.202778</td>\n",
       "      <td>1.982566</td>\n",
       "      <td>1.743430</td>\n",
       "      <td>0.573580</td>\n",
       "      <td>5.944437</td>\n",
       "      <td>2.124456</td>\n",
       "      <td>1.223576</td>\n",
       "      <td>2.000461</td>\n",
       "      <td>3.331739</td>\n",
       "      <td>3.655352</td>\n",
       "      <td>5.001024</td>\n",
       "      <td>1.646346</td>\n",
       "      <td>1.171634</td>\n",
       "      <td>1.495277</td>\n",
       "      <td>2.529288</td>\n",
       "      <td>1.355922</td>\n",
       "      <td>2.097861</td>\n",
       "      <td>2.186722</td>\n",
       "      <td>2.340106</td>\n",
       "    </tr>\n",
       "  </tbody>\n",
       "</table>\n",
       "</div>"
      ],
      "text/plain": [
       "          Occupation  Marital_Status  Product_Category_2              F  \\\n",
       "count  210025.000000   210025.000000       210025.000000  210025.000000   \n",
       "mean        0.000739       -0.000356           -0.004925      -0.006201   \n",
       "std         1.001154        0.999935            1.000789       0.996348   \n",
       "min        -1.238656       -0.831406           -1.775180      -0.573580   \n",
       "25%        -0.931915       -0.831406           -0.366025      -0.573580   \n",
       "50%        -0.165062       -0.831406           -0.131166      -0.573580   \n",
       "75%         0.908531        1.202778            1.043130      -0.573580   \n",
       "max         1.828754        1.202778            1.982566       1.743430   \n",
       "\n",
       "                   M           0-17          18-25          26-35  \\\n",
       "count  210025.000000  210025.000000  210025.000000  210025.000000   \n",
       "mean        0.006201      -0.001426       0.004658      -0.004850   \n",
       "std         0.996348       0.995872       1.003834       0.999003   \n",
       "min        -1.743430      -0.168224      -0.470707      -0.817274   \n",
       "25%         0.573580      -0.168224      -0.470707      -0.817274   \n",
       "50%         0.573580      -0.168224      -0.470707      -0.817274   \n",
       "75%         0.573580      -0.168224      -0.470707       1.223576   \n",
       "max         0.573580       5.944437       2.124456       1.223576   \n",
       "\n",
       "               36-45          46-50          51-55            55+  \\\n",
       "count  210025.000000  210025.000000  210025.000000  210025.000000   \n",
       "mean        0.000055       0.001890      -0.001048       0.002806   \n",
       "std         1.000042       1.002860       0.998227       1.006711   \n",
       "min        -0.499883      -0.300143      -0.273571      -0.199958   \n",
       "25%        -0.499883      -0.300143      -0.273571      -0.199958   \n",
       "50%        -0.499883      -0.300143      -0.273571      -0.199958   \n",
       "75%        -0.499883      -0.300143      -0.273571      -0.199958   \n",
       "max         2.000461       3.331739       3.655352       5.001024   \n",
       "\n",
       "                   A              B              C              0  \\\n",
       "count  210025.000000  210025.000000  210025.000000  210025.000000   \n",
       "mean       -0.001013       0.002313      -0.001499       0.000250   \n",
       "std         0.999474       1.000366       0.999380       1.000267   \n",
       "min        -0.607404      -0.853506      -0.668770      -0.395367   \n",
       "25%        -0.607404      -0.853506      -0.668770      -0.395367   \n",
       "50%        -0.607404      -0.853506      -0.668770      -0.395367   \n",
       "75%         1.646346       1.171634       1.495277      -0.395367   \n",
       "max         1.646346       1.171634       1.495277       2.529288   \n",
       "\n",
       "                   1              2              3             4+  \n",
       "count  210025.000000  210025.000000  210025.000000  210025.000000  \n",
       "mean       -0.002649       0.001029       0.004716      -0.002777  \n",
       "std         0.999178       1.000834       1.004059       0.997338  \n",
       "min        -0.737503      -0.476674      -0.457304      -0.427330  \n",
       "25%        -0.737503      -0.476674      -0.457304      -0.427330  \n",
       "50%        -0.737503      -0.476674      -0.457304      -0.427330  \n",
       "75%         1.355922      -0.476674      -0.457304      -0.427330  \n",
       "max         1.355922       2.097861       2.186722       2.340106  "
      ]
     },
     "execution_count": 61,
     "metadata": {},
     "output_type": "execute_result"
    }
   ],
   "source": [
    "# Check for mean and std dev. Notice none of the mean and std are exactly 0 and 1\n",
    "X_test.describe()"
   ]
  },
  {
   "cell_type": "markdown",
   "metadata": {},
   "source": [
    "# Model - Baseline Model"
   ]
  },
  {
   "cell_type": "markdown",
   "metadata": {},
   "source": [
    "- For every test data point, the prediction will be the average of the train labels as the output.\n",
    "- This model can use to perform the hypothesis testing for other complex models"
   ]
  },
  {
   "cell_type": "code",
   "execution_count": null,
   "metadata": {},
   "outputs": [],
   "source": [
    "# Predict Train results\n",
    "y_train_pred = np.ones(y_train.shape[0])*y_train.mean()"
   ]
  },
  {
   "cell_type": "code",
   "execution_count": null,
   "metadata": {},
   "outputs": [],
   "source": [
    "# Predict Test results\n",
    "y_pred = np.ones(y_test.shape[0])*y_train.mean()\n",
    "from sklearn.metrics import r2_score"
   ]
  },
  {
   "cell_type": "code",
   "execution_count": null,
   "metadata": {},
   "outputs": [
    {
     "name": "stdout",
     "output_type": "stream",
     "text": [
      "Train Results for Baseline Model:\n",
      "*******************************\n",
      "Root mean squared error:  4694.750428513786\n",
      "R-squared:  0.0\n",
      "Mean Absolute Error:  3807.192213430575\n"
     ]
    }
   ],
   "source": [
    "# Using print function to organized display, the Train result of RMSE, RSquared and MAE\n",
    "print(\"Train Results for Baseline Model:\")\n",
    "print(\"*******************************\")\n",
    "print(\"Root mean squared error: \", sqrt(mse(y_train.values, y_train_pred)))\n",
    "print(\"R-squared: \", r2_score(y_train.values, y_train_pred))\n",
    "print(\"Mean Absolute Error: \", mae(y_train.values, y_train_pred))"
   ]
  },
  {
   "cell_type": "code",
   "execution_count": null,
   "metadata": {},
   "outputs": [
    {
     "name": "stdout",
     "output_type": "stream",
     "text": [
      "Test Results for Baseline Model:\n",
      "*******************************\n",
      "Root mean squared error:  4682.386106777015\n",
      "R-squared:  -2.668133427752295e-06\n",
      "Mean Absolute Error:  3792.071833540134\n"
     ]
    }
   ],
   "source": [
    "# Using print funtion to organized display, the Test result of RMSE, Rsquared and MAE\n",
    "print(\"Test Results for Baseline Model:\")\n",
    "print(\"*******************************\")\n",
    "print(\"Root mean squared error: \", sqrt(mse(y_test, y_pred)))\n",
    "print(\"R-squared: \", r2_score(y_test, y_pred))\n",
    "print(\"Mean Absolute Error: \", mae(y_test, y_pred))"
   ]
  },
  {
   "cell_type": "markdown",
   "metadata": {},
   "source": [
    "# Model- Ridge Regression"
   ]
  },
  {
   "cell_type": "code",
   "execution_count": null,
   "metadata": {},
   "outputs": [
    {
     "data": {
      "text/plain": [
       "GridSearchCV(cv=10, error_score='raise-deprecating',\n",
       "       estimator=Ridge(alpha=1.0, copy_X=True, fit_intercept=True, max_iter=None,\n",
       "   normalize=False, random_state=None, solver='auto', tol=0.001),\n",
       "       fit_params=None, iid='warn', n_jobs=-1,\n",
       "       param_grid={'alpha': [0.0001, 0.001, 0.01, 0.1, 1, 10, 100, 1000, 10000, 100000]},\n",
       "       pre_dispatch='2*n_jobs', refit=True, return_train_score='warn',\n",
       "       scoring='neg_mean_absolute_error', verbose=0)"
      ]
     },
     "execution_count": 66,
     "metadata": {},
     "output_type": "execute_result"
    }
   ],
   "source": [
    "# Model parameters are optimized (\"tuned\") by the training process\n",
    "tuned_params = {'alpha': [0.0001, 0.001, 0.01, 0.1, 1, 10, 100, 1000, 10000, 100000]}\n",
    "model = GridSearchCV(Ridge(), tuned_params, scoring = 'neg_mean_absolute_error', cv=10, n_jobs=-1)\n",
    "model.fit(X_train, y_train)"
   ]
  },
  {
   "cell_type": "code",
   "execution_count": null,
   "metadata": {},
   "outputs": [
    {
     "data": {
      "text/plain": [
       "Ridge(alpha=0.0001, copy_X=True, fit_intercept=True, max_iter=None,\n",
       "   normalize=False, random_state=None, solver='auto', tol=0.001)"
      ]
     },
     "execution_count": 67,
     "metadata": {},
     "output_type": "execute_result"
    }
   ],
   "source": [
    "model.best_estimator_"
   ]
  },
  {
   "cell_type": "code",
   "execution_count": null,
   "metadata": {},
   "outputs": [],
   "source": [
    "# As we performed earlier\n",
    "# Predict Train results\n",
    "y_train_pred = model.predict(X_train)"
   ]
  },
  {
   "cell_type": "code",
   "execution_count": null,
   "metadata": {},
   "outputs": [],
   "source": [
    "# Predict Test results\n",
    "y_pred = model.predict(X_test)"
   ]
  },
  {
   "cell_type": "code",
   "execution_count": null,
   "metadata": {},
   "outputs": [
    {
     "name": "stdout",
     "output_type": "stream",
     "text": [
      "Train Results for Ridge Regression:\n",
      "*******************************\n",
      "Root mean squared error:  4581.581055271076\n",
      "R-squared:  0.047629952636170536\n",
      "Mean Absolute Error:  3654.342976768416\n"
     ]
    }
   ],
   "source": [
    "print(\"Train Results for Ridge Regression:\")    # Displays Train results in an organized way\n",
    "print(\"*******************************\")\n",
    "print(\"Root mean squared error: \", sqrt(mse(y_train.values, y_train_pred)))\n",
    "print(\"R-squared: \", r2_score(y_train.values, y_train_pred))\n",
    "print(\"Mean Absolute Error: \", mae(y_train.values, y_train_pred))"
   ]
  },
  {
   "cell_type": "code",
   "execution_count": null,
   "metadata": {},
   "outputs": [
    {
     "name": "stdout",
     "output_type": "stream",
     "text": [
      "Test Results for Ridge Regression:\n",
      "*******************************\n",
      "Root mean squared error:  4571.968228815669\n",
      "R-squared:  0.04660444831292376\n",
      "Mean Absolute Error:  3641.7452183613696\n"
     ]
    }
   ],
   "source": [
    "print(\"Test Results for Ridge Regression:\") # Test results\n",
    "print(\"*******************************\")\n",
    "print(\"Root mean squared error: \", sqrt(mse(y_test, y_pred)))\n",
    "print(\"R-squared: \", r2_score(y_test, y_pred))\n",
    "print(\"Mean Absolute Error: \", mae(y_test, y_pred))"
   ]
  },
  {
   "cell_type": "markdown",
   "metadata": {},
   "source": [
    "# Feature Importance"
   ]
  },
  {
   "cell_type": "code",
   "execution_count": null,
   "metadata": {},
   "outputs": [
    {
     "data": {
      "text/plain": [
       "Ridge(alpha=100, copy_X=True, fit_intercept=True, max_iter=None,\n",
       "   normalize=False, random_state=None, solver='auto', tol=0.001)"
      ]
     },
     "execution_count": 72,
     "metadata": {},
     "output_type": "execute_result"
    }
   ],
   "source": [
    "# Building the model again with the best hyperparameters\n",
    "model = Ridge(alpha=100)\n",
    "model.fit(X_train, y_train)"
   ]
  },
  {
   "cell_type": "code",
   "execution_count": null,
   "metadata": {},
   "outputs": [
    {
     "name": "stdout",
     "output_type": "stream",
     "text": [
      "The features in order of importance are:\n",
      "--------------------------------------------------\n",
      "Product_Category_2\n",
      "C\n",
      "A\n",
      "F\n",
      "M\n",
      "0-17\n",
      "B\n",
      "51-55\n",
      "Occupation\n",
      "Marital_Status\n",
      "18-25\n",
      "2\n",
      "36-45\n",
      "0\n",
      "55+\n",
      "1\n",
      "4+\n",
      "3\n",
      "26-35\n",
      "46-50\n"
     ]
    }
   ],
   "source": [
    "# a simple for-loop is used to show the importent features applying the argsort funtion of numpy\n",
    "indices = np.argsort(-abs(model.coef_))\n",
    "print(\"The features in order of importance are:\")\n",
    "print(50*'-')\n",
    "for feature in X.columns[indices]:\n",
    "    print(feature)"
   ]
  },
  {
   "cell_type": "markdown",
   "metadata": {},
   "source": [
    "# Model- XGBoost Regression"
   ]
  },
  {
   "cell_type": "code",
   "execution_count": null,
   "metadata": {},
   "outputs": [],
   "source": [
    "# XGBoost is faster than other component to execute\n",
    "tuned_params = {'max_depth': [1, 2, 3, 4, 5], 'learning_rate': [0.01, 0.05, 0.1], 'n_estimators': [100, 200, 300, 400, 500], 'reg_lambda': [0.001, 0.1, 1.0, 10.0, 100.0]}\n",
    "model = RandomizedSearchCV(XGBRegressor(), tuned_params, n_iter=20, scoring = 'neg_mean_absolute_error', cv=5, n_jobs=-1)\n",
    "model.fit(X_train, y_train)"
   ]
  },
  {
   "cell_type": "code",
   "execution_count": null,
   "metadata": {},
   "outputs": [],
   "source": [
    "model.best_estimator_"
   ]
  },
  {
   "cell_type": "code",
   "execution_count": null,
   "metadata": {},
   "outputs": [],
   "source": [
    "# Predict Train results\n",
    "y_train_pred = model.predict(X_train)"
   ]
  },
  {
   "cell_type": "code",
   "execution_count": null,
   "metadata": {},
   "outputs": [],
   "source": [
    "# Predict Test results\n",
    "y_pred = model.predict(X_test)"
   ]
  },
  {
   "cell_type": "code",
   "execution_count": null,
   "metadata": {},
   "outputs": [],
   "source": [
    "print(\"Train Results for XGBoost Regression:\")\n",
    "print(\"*******************************\")\n",
    "print(\"Root mean squared error: \", sqrt(mse(y_train.values, y_train_pred)))\n",
    "print(\"R-squared: \", rs(y_train.values, y_train_pred))\n",
    "print(\"Mean Absolute Error: \", mae(y_train.values, y_train_pred))"
   ]
  },
  {
   "cell_type": "code",
   "execution_count": null,
   "metadata": {},
   "outputs": [],
   "source": [
    "print(\"Test Results for XGBoost Regression:\")\n",
    "print(\"*******************************\")\n",
    "print(\"Root mean squared error: \", sqrt(mse(y_test, y_pred)))\n",
    "print(\"R-squared: \", r2_score(y_test, y_pred))\n",
    "print(\"Mean Absolute Error: \", mae(y_test, y_pred))"
   ]
  },
  {
   "cell_type": "markdown",
   "metadata": {},
   "source": [
    "# Feature Importance"
   ]
  },
  {
   "cell_type": "code",
   "execution_count": null,
   "metadata": {},
   "outputs": [],
   "source": [
    "# Building the model again with the best hyperparameters\n",
    "model = XGBRegressor(max_depth=2,learning_rate=0.05,n_estimators=400, reg_lambda=0.001)\n",
    "model.fit(X_train, y_train)"
   ]
  },
  {
   "cell_type": "code",
   "execution_count": null,
   "metadata": {},
   "outputs": [],
   "source": [
    "# Function to include figsize parameter\n",
    "def my_plot_importance(booster, figsize, **kwargs): \n",
    "    from matplotlib import pyplot as plt\n",
    "    from xgboost import plot_importance\n",
    "    fig, ax = plt.subplots(1,1,figsize=figsize)\n",
    "    return plot_importance(booster=booster, ax=ax, **kwargs)"
   ]
  },
  {
   "cell_type": "code",
   "execution_count": null,
   "metadata": {},
   "outputs": [],
   "source": [
    "my_plot_importance(model, (10,10))"
   ]
  },
  {
   "cell_type": "markdown",
   "metadata": {},
   "source": [
    "# Model- Lasso Regression"
   ]
  },
  {
   "cell_type": "code",
   "execution_count": null,
   "metadata": {},
   "outputs": [],
   "source": [
    "tuned_params = {'alpha': [0.0001, 0.001, 0.01, 0.1, 1, 10, 100, 1000, 10000, 100000]}\n",
    "model = GridSearchCV(Lasso(), tuned_params, scoring = 'neg_mean_absolute_error', cv=20, n_jobs=-1)\n",
    "model.fit(X_train, y_train)"
   ]
  },
  {
   "cell_type": "code",
   "execution_count": null,
   "metadata": {},
   "outputs": [],
   "source": [
    "model.best_estimator_"
   ]
  },
  {
   "cell_type": "code",
   "execution_count": null,
   "metadata": {},
   "outputs": [],
   "source": [
    "# Predict Train results\n",
    "y_train_pred = model.predict(X_train)"
   ]
  },
  {
   "cell_type": "code",
   "execution_count": null,
   "metadata": {},
   "outputs": [],
   "source": [
    "# Predict Test results\n",
    "y_pred = model.predict(X_test)"
   ]
  },
  {
   "cell_type": "code",
   "execution_count": null,
   "metadata": {},
   "outputs": [],
   "source": [
    "print(\"Train Results for Lasso Regression:\")\n",
    "print(\"*******************************\")\n",
    "print(\"Root mean squared error: \", sqrt(mse(y_train.values, y_train_pred)))\n",
    "print(\"R-squared: \", rs(y_train.values, y_train_pred))\n",
    "print(\"Mean Absolute Error: \", mae(y_train.values, y_train_pred))"
   ]
  },
  {
   "cell_type": "code",
   "execution_count": null,
   "metadata": {},
   "outputs": [],
   "source": [
    "print(\"Test Results for Lasso Regression:\")\n",
    "print(\"*******************************\")\n",
    "print(\"Root mean squared error: \", sqrt(mse(y_test, y_pred)))\n",
    "print(\"R-squared: \", rs(y_test, y_pred))\n",
    "print(\"Mean Absolute Error: \", mae(y_test, y_pred))"
   ]
  },
  {
   "cell_type": "markdown",
   "metadata": {},
   "source": [
    "# Feature Importance"
   ]
  },
  {
   "cell_type": "code",
   "execution_count": null,
   "metadata": {},
   "outputs": [],
   "source": [
    "# Building a model again with the best hyperparameters\n",
    "model = Lasso(alpha=1000)\n",
    "model.fit(X_train, y_train)"
   ]
  },
  {
   "cell_type": "code",
   "execution_count": null,
   "metadata": {},
   "outputs": [],
   "source": [
    "indices = np.argsort(-abs(model.coef_))\n",
    "print(\"The features in order of importance are:\")\n",
    "print(50*'-')\n",
    "for feature in X.columns[indices]:\n",
    "    print(feature)"
   ]
  },
  {
   "cell_type": "markdown",
   "metadata": {},
   "source": [
    "# Model- Descision Tree Regression"
   ]
  },
  {
   "cell_type": "code",
   "execution_count": null,
   "metadata": {},
   "outputs": [],
   "source": [
    "tuned_params = {'min_samples_split': [2, 3, 4, 5, 7], 'min_samples_leaf': [1, 2, 3, 4, 6], 'max_depth': [2, 3, 4, 5, 6, 7]}\n",
    "model = RandomizedSearchCV(DecisionTreeRegressor(), tuned_params, n_iter=20, scoring = 'neg_mean_absolute_error', cv=10, n_jobs=-1)\n",
    "model.fit(X_train, y_train)"
   ]
  },
  {
   "cell_type": "code",
   "execution_count": null,
   "metadata": {},
   "outputs": [],
   "source": [
    "model.best_estimator_"
   ]
  },
  {
   "cell_type": "code",
   "execution_count": null,
   "metadata": {},
   "outputs": [],
   "source": [
    "# Predict Train results\n",
    "y_train_pred = model.predict(X_train)"
   ]
  },
  {
   "cell_type": "code",
   "execution_count": null,
   "metadata": {},
   "outputs": [],
   "source": [
    "# Predict Test results\n",
    "y_pred = model.predict(X_test)"
   ]
  },
  {
   "cell_type": "code",
   "execution_count": null,
   "metadata": {},
   "outputs": [],
   "source": [
    "print(\"Train Results for Decision Tree Regression:\")\n",
    "print(\"*******************************\")\n",
    "print(\"Root mean squared error: \", sqrt(mse(y_train.values, y_train_pred)))\n",
    "print(\"R-squared: \", rs(y_train.values, y_train_pred))\n",
    "print(\"Mean Absolute Error: \", mae(y_train.values, y_train_pred))"
   ]
  },
  {
   "cell_type": "code",
   "execution_count": null,
   "metadata": {},
   "outputs": [],
   "source": [
    "print(\"Test Results for Decision Tree Regression:\")\n",
    "print(\"*******************************\")\n",
    "print(\"Root mean squared error: \", sqrt(mse(y_test, y_pred)))\n",
    "print(\"R-squared: \", rs(y_test, y_pred))\n",
    "print(\"Mean Absolute Error: \", mae(y_test, y_pred))"
   ]
  },
  {
   "cell_type": "markdown",
   "metadata": {},
   "source": [
    "# Model- KN Regression"
   ]
  },
  {
   "cell_type": "code",
   "execution_count": null,
   "metadata": {},
   "outputs": [],
   "source": [
    "# K nearest points to a given point\n",
    "# creating odd list of K for KNN\n",
    "neighbors = list(range(1,50,2))\n",
    "# empty list that will hold cv scores\n",
    "cv_scores = []\n",
    "\n",
    "# perform 10-fold cross validation\n",
    "for k in neighbors:\n",
    "    knn = KNeighborsRegressor(n_neighbors=k)\n",
    "    scores = cross_val_score(knn, X_train, y_train, cv=10, scoring='neg_mean_absolute_error')  #to execute this function\n",
    "    cv_scores.append(scores.mean())                                                # \n",
    "\n",
    "# changing to misclassification error\n",
    "MSE = [1 - x for x in cv_scores]\n",
    "\n",
    "# determining best k\n",
    "optimal_k = neighbors[MSE.index(min(MSE))]\n",
    "print('\\nThe optimal number of neighbors is %d.' % optimal_k)"
   ]
  },
  {
   "cell_type": "code",
   "execution_count": null,
   "metadata": {},
   "outputs": [],
   "source": []
  }
 ],
 "metadata": {
  "kernelspec": {
   "display_name": "Python 3",
   "language": "python",
   "name": "python3"
  },
  "language_info": {
   "codemirror_mode": {
    "name": "ipython",
    "version": 3
   },
   "file_extension": ".py",
   "mimetype": "text/x-python",
   "name": "python",
   "nbconvert_exporter": "python",
   "pygments_lexer": "ipython3",
   "version": "3.7.1"
  }
 },
 "nbformat": 4,
 "nbformat_minor": 2
}
